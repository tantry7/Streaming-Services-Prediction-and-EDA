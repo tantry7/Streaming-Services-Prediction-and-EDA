{
  "nbformat": 4,
  "nbformat_minor": 0,
  "metadata": {
    "colab": {
      "name": "netflix.ipynb",
      "provenance": [],
      "collapsed_sections": []
    },
    "kernelspec": {
      "name": "python3",
      "display_name": "Python 3"
    },
    "language_info": {
      "name": "python"
    }
  },
  "cells": [
    {
      "cell_type": "code",
      "execution_count": null,
      "metadata": {
        "colab": {
          "base_uri": "https://localhost:8080/"
        },
        "id": "fMsa6riGWeey",
        "outputId": "eaeca7a6-3158-4e04-faf3-153fd76fab71"
      },
      "outputs": [
        {
          "output_type": "stream",
          "name": "stdout",
          "text": [
            "Drive already mounted at /content/drive; to attempt to forcibly remount, call drive.mount(\"/content/drive\", force_remount=True).\n"
          ]
        }
      ],
      "source": [
        "from google.colab import drive\n",
        "drive.mount('/content/drive')\n"
      ]
    },
    {
      "cell_type": "code",
      "source": [
        "import pandas as pd\n",
        "import numpy as np\n",
        "from sklearn.preprocessing import StandardScaler\n",
        "from sklearn.cluster import KMeans, AffinityPropagation\n",
        "import matplotlib.pyplot as plt\n",
        "import seaborn as sns\n",
        "%matplotlib inline\n",
        "import warnings\n",
        "warnings.filterwarnings(\"ignore\")\n",
        "import plotly as py\n",
        "import plotly.graph_objs as go\n",
        "import os \n",
        "from sklearn.linear_model import LinearRegression"
      ],
      "metadata": {
        "id": "8Kc2o2QZdcya"
      },
      "execution_count": null,
      "outputs": []
    },
    {
      "cell_type": "code",
      "source": [
        "netflix_data = pd.read_csv(\"/content/drive/MyDrive/Datasets-Streaming/netflix_titles.csv\")"
      ],
      "metadata": {
        "id": "jgdEnm4CZuVp",
        "colab": {
          "base_uri": "https://localhost:8080/",
          "height": 328
        },
        "outputId": "9727b210-d0f8-4459-a331-766fb5c32cab"
      },
      "execution_count": null,
      "outputs": [
        {
          "output_type": "error",
          "ename": "FileNotFoundError",
          "evalue": "ignored",
          "traceback": [
            "\u001b[0;31m---------------------------------------------------------------------------\u001b[0m",
            "\u001b[0;31mFileNotFoundError\u001b[0m                         Traceback (most recent call last)",
            "\u001b[0;32m<ipython-input-135-faf1c304c924>\u001b[0m in \u001b[0;36m<module>\u001b[0;34m()\u001b[0m\n\u001b[0;32m----> 1\u001b[0;31m \u001b[0mnetflix_data\u001b[0m \u001b[0;34m=\u001b[0m \u001b[0mpd\u001b[0m\u001b[0;34m.\u001b[0m\u001b[0mread_csv\u001b[0m\u001b[0;34m(\u001b[0m\u001b[0;34m\"/content/drive/MyDrive/Datasets-Streaming/netflix_titles.csv\"\u001b[0m\u001b[0;34m)\u001b[0m\u001b[0;34m\u001b[0m\u001b[0;34m\u001b[0m\u001b[0m\n\u001b[0m",
            "\u001b[0;32m/usr/local/lib/python3.7/dist-packages/pandas/util/_decorators.py\u001b[0m in \u001b[0;36mwrapper\u001b[0;34m(*args, **kwargs)\u001b[0m\n\u001b[1;32m    309\u001b[0m                     \u001b[0mstacklevel\u001b[0m\u001b[0;34m=\u001b[0m\u001b[0mstacklevel\u001b[0m\u001b[0;34m,\u001b[0m\u001b[0;34m\u001b[0m\u001b[0;34m\u001b[0m\u001b[0m\n\u001b[1;32m    310\u001b[0m                 )\n\u001b[0;32m--> 311\u001b[0;31m             \u001b[0;32mreturn\u001b[0m \u001b[0mfunc\u001b[0m\u001b[0;34m(\u001b[0m\u001b[0;34m*\u001b[0m\u001b[0margs\u001b[0m\u001b[0;34m,\u001b[0m \u001b[0;34m**\u001b[0m\u001b[0mkwargs\u001b[0m\u001b[0;34m)\u001b[0m\u001b[0;34m\u001b[0m\u001b[0;34m\u001b[0m\u001b[0m\n\u001b[0m\u001b[1;32m    312\u001b[0m \u001b[0;34m\u001b[0m\u001b[0m\n\u001b[1;32m    313\u001b[0m         \u001b[0;32mreturn\u001b[0m \u001b[0mwrapper\u001b[0m\u001b[0;34m\u001b[0m\u001b[0;34m\u001b[0m\u001b[0m\n",
            "\u001b[0;32m/usr/local/lib/python3.7/dist-packages/pandas/io/parsers/readers.py\u001b[0m in \u001b[0;36mread_csv\u001b[0;34m(filepath_or_buffer, sep, delimiter, header, names, index_col, usecols, squeeze, prefix, mangle_dupe_cols, dtype, engine, converters, true_values, false_values, skipinitialspace, skiprows, skipfooter, nrows, na_values, keep_default_na, na_filter, verbose, skip_blank_lines, parse_dates, infer_datetime_format, keep_date_col, date_parser, dayfirst, cache_dates, iterator, chunksize, compression, thousands, decimal, lineterminator, quotechar, quoting, doublequote, escapechar, comment, encoding, encoding_errors, dialect, error_bad_lines, warn_bad_lines, on_bad_lines, delim_whitespace, low_memory, memory_map, float_precision, storage_options)\u001b[0m\n\u001b[1;32m    584\u001b[0m     \u001b[0mkwds\u001b[0m\u001b[0;34m.\u001b[0m\u001b[0mupdate\u001b[0m\u001b[0;34m(\u001b[0m\u001b[0mkwds_defaults\u001b[0m\u001b[0;34m)\u001b[0m\u001b[0;34m\u001b[0m\u001b[0;34m\u001b[0m\u001b[0m\n\u001b[1;32m    585\u001b[0m \u001b[0;34m\u001b[0m\u001b[0m\n\u001b[0;32m--> 586\u001b[0;31m     \u001b[0;32mreturn\u001b[0m \u001b[0m_read\u001b[0m\u001b[0;34m(\u001b[0m\u001b[0mfilepath_or_buffer\u001b[0m\u001b[0;34m,\u001b[0m \u001b[0mkwds\u001b[0m\u001b[0;34m)\u001b[0m\u001b[0;34m\u001b[0m\u001b[0;34m\u001b[0m\u001b[0m\n\u001b[0m\u001b[1;32m    587\u001b[0m \u001b[0;34m\u001b[0m\u001b[0m\n\u001b[1;32m    588\u001b[0m \u001b[0;34m\u001b[0m\u001b[0m\n",
            "\u001b[0;32m/usr/local/lib/python3.7/dist-packages/pandas/io/parsers/readers.py\u001b[0m in \u001b[0;36m_read\u001b[0;34m(filepath_or_buffer, kwds)\u001b[0m\n\u001b[1;32m    480\u001b[0m \u001b[0;34m\u001b[0m\u001b[0m\n\u001b[1;32m    481\u001b[0m     \u001b[0;31m# Create the parser.\u001b[0m\u001b[0;34m\u001b[0m\u001b[0;34m\u001b[0m\u001b[0;34m\u001b[0m\u001b[0m\n\u001b[0;32m--> 482\u001b[0;31m     \u001b[0mparser\u001b[0m \u001b[0;34m=\u001b[0m \u001b[0mTextFileReader\u001b[0m\u001b[0;34m(\u001b[0m\u001b[0mfilepath_or_buffer\u001b[0m\u001b[0;34m,\u001b[0m \u001b[0;34m**\u001b[0m\u001b[0mkwds\u001b[0m\u001b[0;34m)\u001b[0m\u001b[0;34m\u001b[0m\u001b[0;34m\u001b[0m\u001b[0m\n\u001b[0m\u001b[1;32m    483\u001b[0m \u001b[0;34m\u001b[0m\u001b[0m\n\u001b[1;32m    484\u001b[0m     \u001b[0;32mif\u001b[0m \u001b[0mchunksize\u001b[0m \u001b[0;32mor\u001b[0m \u001b[0miterator\u001b[0m\u001b[0;34m:\u001b[0m\u001b[0;34m\u001b[0m\u001b[0;34m\u001b[0m\u001b[0m\n",
            "\u001b[0;32m/usr/local/lib/python3.7/dist-packages/pandas/io/parsers/readers.py\u001b[0m in \u001b[0;36m__init__\u001b[0;34m(self, f, engine, **kwds)\u001b[0m\n\u001b[1;32m    809\u001b[0m             \u001b[0mself\u001b[0m\u001b[0;34m.\u001b[0m\u001b[0moptions\u001b[0m\u001b[0;34m[\u001b[0m\u001b[0;34m\"has_index_names\"\u001b[0m\u001b[0;34m]\u001b[0m \u001b[0;34m=\u001b[0m \u001b[0mkwds\u001b[0m\u001b[0;34m[\u001b[0m\u001b[0;34m\"has_index_names\"\u001b[0m\u001b[0;34m]\u001b[0m\u001b[0;34m\u001b[0m\u001b[0;34m\u001b[0m\u001b[0m\n\u001b[1;32m    810\u001b[0m \u001b[0;34m\u001b[0m\u001b[0m\n\u001b[0;32m--> 811\u001b[0;31m         \u001b[0mself\u001b[0m\u001b[0;34m.\u001b[0m\u001b[0m_engine\u001b[0m \u001b[0;34m=\u001b[0m \u001b[0mself\u001b[0m\u001b[0;34m.\u001b[0m\u001b[0m_make_engine\u001b[0m\u001b[0;34m(\u001b[0m\u001b[0mself\u001b[0m\u001b[0;34m.\u001b[0m\u001b[0mengine\u001b[0m\u001b[0;34m)\u001b[0m\u001b[0;34m\u001b[0m\u001b[0;34m\u001b[0m\u001b[0m\n\u001b[0m\u001b[1;32m    812\u001b[0m \u001b[0;34m\u001b[0m\u001b[0m\n\u001b[1;32m    813\u001b[0m     \u001b[0;32mdef\u001b[0m \u001b[0mclose\u001b[0m\u001b[0;34m(\u001b[0m\u001b[0mself\u001b[0m\u001b[0;34m)\u001b[0m\u001b[0;34m:\u001b[0m\u001b[0;34m\u001b[0m\u001b[0;34m\u001b[0m\u001b[0m\n",
            "\u001b[0;32m/usr/local/lib/python3.7/dist-packages/pandas/io/parsers/readers.py\u001b[0m in \u001b[0;36m_make_engine\u001b[0;34m(self, engine)\u001b[0m\n\u001b[1;32m   1038\u001b[0m             )\n\u001b[1;32m   1039\u001b[0m         \u001b[0;31m# error: Too many arguments for \"ParserBase\"\u001b[0m\u001b[0;34m\u001b[0m\u001b[0;34m\u001b[0m\u001b[0;34m\u001b[0m\u001b[0m\n\u001b[0;32m-> 1040\u001b[0;31m         \u001b[0;32mreturn\u001b[0m \u001b[0mmapping\u001b[0m\u001b[0;34m[\u001b[0m\u001b[0mengine\u001b[0m\u001b[0;34m]\u001b[0m\u001b[0;34m(\u001b[0m\u001b[0mself\u001b[0m\u001b[0;34m.\u001b[0m\u001b[0mf\u001b[0m\u001b[0;34m,\u001b[0m \u001b[0;34m**\u001b[0m\u001b[0mself\u001b[0m\u001b[0;34m.\u001b[0m\u001b[0moptions\u001b[0m\u001b[0;34m)\u001b[0m  \u001b[0;31m# type: ignore[call-arg]\u001b[0m\u001b[0;34m\u001b[0m\u001b[0;34m\u001b[0m\u001b[0m\n\u001b[0m\u001b[1;32m   1041\u001b[0m \u001b[0;34m\u001b[0m\u001b[0m\n\u001b[1;32m   1042\u001b[0m     \u001b[0;32mdef\u001b[0m \u001b[0m_failover_to_python\u001b[0m\u001b[0;34m(\u001b[0m\u001b[0mself\u001b[0m\u001b[0;34m)\u001b[0m\u001b[0;34m:\u001b[0m\u001b[0;34m\u001b[0m\u001b[0;34m\u001b[0m\u001b[0m\n",
            "\u001b[0;32m/usr/local/lib/python3.7/dist-packages/pandas/io/parsers/c_parser_wrapper.py\u001b[0m in \u001b[0;36m__init__\u001b[0;34m(self, src, **kwds)\u001b[0m\n\u001b[1;32m     49\u001b[0m \u001b[0;34m\u001b[0m\u001b[0m\n\u001b[1;32m     50\u001b[0m         \u001b[0;31m# open handles\u001b[0m\u001b[0;34m\u001b[0m\u001b[0;34m\u001b[0m\u001b[0;34m\u001b[0m\u001b[0m\n\u001b[0;32m---> 51\u001b[0;31m         \u001b[0mself\u001b[0m\u001b[0;34m.\u001b[0m\u001b[0m_open_handles\u001b[0m\u001b[0;34m(\u001b[0m\u001b[0msrc\u001b[0m\u001b[0;34m,\u001b[0m \u001b[0mkwds\u001b[0m\u001b[0;34m)\u001b[0m\u001b[0;34m\u001b[0m\u001b[0;34m\u001b[0m\u001b[0m\n\u001b[0m\u001b[1;32m     52\u001b[0m         \u001b[0;32massert\u001b[0m \u001b[0mself\u001b[0m\u001b[0;34m.\u001b[0m\u001b[0mhandles\u001b[0m \u001b[0;32mis\u001b[0m \u001b[0;32mnot\u001b[0m \u001b[0;32mNone\u001b[0m\u001b[0;34m\u001b[0m\u001b[0;34m\u001b[0m\u001b[0m\n\u001b[1;32m     53\u001b[0m \u001b[0;34m\u001b[0m\u001b[0m\n",
            "\u001b[0;32m/usr/local/lib/python3.7/dist-packages/pandas/io/parsers/base_parser.py\u001b[0m in \u001b[0;36m_open_handles\u001b[0;34m(self, src, kwds)\u001b[0m\n\u001b[1;32m    227\u001b[0m             \u001b[0mmemory_map\u001b[0m\u001b[0;34m=\u001b[0m\u001b[0mkwds\u001b[0m\u001b[0;34m.\u001b[0m\u001b[0mget\u001b[0m\u001b[0;34m(\u001b[0m\u001b[0;34m\"memory_map\"\u001b[0m\u001b[0;34m,\u001b[0m \u001b[0;32mFalse\u001b[0m\u001b[0;34m)\u001b[0m\u001b[0;34m,\u001b[0m\u001b[0;34m\u001b[0m\u001b[0;34m\u001b[0m\u001b[0m\n\u001b[1;32m    228\u001b[0m             \u001b[0mstorage_options\u001b[0m\u001b[0;34m=\u001b[0m\u001b[0mkwds\u001b[0m\u001b[0;34m.\u001b[0m\u001b[0mget\u001b[0m\u001b[0;34m(\u001b[0m\u001b[0;34m\"storage_options\"\u001b[0m\u001b[0;34m,\u001b[0m \u001b[0;32mNone\u001b[0m\u001b[0;34m)\u001b[0m\u001b[0;34m,\u001b[0m\u001b[0;34m\u001b[0m\u001b[0;34m\u001b[0m\u001b[0m\n\u001b[0;32m--> 229\u001b[0;31m             \u001b[0merrors\u001b[0m\u001b[0;34m=\u001b[0m\u001b[0mkwds\u001b[0m\u001b[0;34m.\u001b[0m\u001b[0mget\u001b[0m\u001b[0;34m(\u001b[0m\u001b[0;34m\"encoding_errors\"\u001b[0m\u001b[0;34m,\u001b[0m \u001b[0;34m\"strict\"\u001b[0m\u001b[0;34m)\u001b[0m\u001b[0;34m,\u001b[0m\u001b[0;34m\u001b[0m\u001b[0;34m\u001b[0m\u001b[0m\n\u001b[0m\u001b[1;32m    230\u001b[0m         )\n\u001b[1;32m    231\u001b[0m \u001b[0;34m\u001b[0m\u001b[0m\n",
            "\u001b[0;32m/usr/local/lib/python3.7/dist-packages/pandas/io/common.py\u001b[0m in \u001b[0;36mget_handle\u001b[0;34m(path_or_buf, mode, encoding, compression, memory_map, is_text, errors, storage_options)\u001b[0m\n\u001b[1;32m    705\u001b[0m                 \u001b[0mencoding\u001b[0m\u001b[0;34m=\u001b[0m\u001b[0mioargs\u001b[0m\u001b[0;34m.\u001b[0m\u001b[0mencoding\u001b[0m\u001b[0;34m,\u001b[0m\u001b[0;34m\u001b[0m\u001b[0;34m\u001b[0m\u001b[0m\n\u001b[1;32m    706\u001b[0m                 \u001b[0merrors\u001b[0m\u001b[0;34m=\u001b[0m\u001b[0merrors\u001b[0m\u001b[0;34m,\u001b[0m\u001b[0;34m\u001b[0m\u001b[0;34m\u001b[0m\u001b[0m\n\u001b[0;32m--> 707\u001b[0;31m                 \u001b[0mnewline\u001b[0m\u001b[0;34m=\u001b[0m\u001b[0;34m\"\"\u001b[0m\u001b[0;34m,\u001b[0m\u001b[0;34m\u001b[0m\u001b[0;34m\u001b[0m\u001b[0m\n\u001b[0m\u001b[1;32m    708\u001b[0m             )\n\u001b[1;32m    709\u001b[0m         \u001b[0;32melse\u001b[0m\u001b[0;34m:\u001b[0m\u001b[0;34m\u001b[0m\u001b[0;34m\u001b[0m\u001b[0m\n",
            "\u001b[0;31mFileNotFoundError\u001b[0m: [Errno 2] No such file or directory: '/content/drive/MyDrive/Datasets-Streaming/netflix_titles.csv'"
          ]
        }
      ]
    },
    {
      "cell_type": "code",
      "source": [
        "amazon_data = pd.read_csv(\"/content/drive/MyDrive/Datasets-Streaming/amazon_prime_titles.csv\")"
      ],
      "metadata": {
        "id": "N0kuxI3nb6Z0"
      },
      "execution_count": null,
      "outputs": []
    },
    {
      "cell_type": "code",
      "source": [
        "disney_data = pd.read_csv(\"/content/drive/MyDrive/Datasets-Streaming/disney_plus_titles.csv\")"
      ],
      "metadata": {
        "id": "T2KkM7z9b8xA"
      },
      "execution_count": null,
      "outputs": []
    },
    {
      "cell_type": "code",
      "source": [
        "hulu_data = pd.read_csv(\"/content/drive/MyDrive/Datasets-Streaming/hulu_titles.csv\")"
      ],
      "metadata": {
        "id": "7R4FuJsFb_vC"
      },
      "execution_count": null,
      "outputs": []
    },
    {
      "cell_type": "code",
      "source": [
        "netflix_data.head(5)"
      ],
      "metadata": {
        "colab": {
          "base_uri": "https://localhost:8080/",
          "height": 687
        },
        "id": "uUGn7qlmeZam",
        "outputId": "83b089ac-bd2d-4811-9405-1a3a44177e7d"
      },
      "execution_count": null,
      "outputs": [
        {
          "output_type": "execute_result",
          "data": {
            "text/plain": [
              "  show_id     type                  title         director  \\\n",
              "0      s1    Movie   dick johnson is dead  Kirsten Johnson   \n",
              "1      s2  TV Show          blood & water          No Data   \n",
              "2      s3  TV Show              ganglands  Julien Leclercq   \n",
              "3      s4  TV Show  jailbirds new orleans          No Data   \n",
              "4      s5  TV Show           kota factory          No Data   \n",
              "\n",
              "                                                cast        country  \\\n",
              "0                                            No data  United States   \n",
              "1  Ama Qamata, Khosi Ngema, Gail Mabalane, Thaban...   South Africa   \n",
              "2  Sami Bouajila, Tracy Gotoas, Samuel Jouy, Nabi...  United States   \n",
              "3                                            No data  United States   \n",
              "4  Mayur More, Jitendra Kumar, Ranjan Raj, Alam K...          India   \n",
              "\n",
              "  date_added  release_year rating   duration  \\\n",
              "0 2021-09-25          2020  PG-13     90 min   \n",
              "1 2021-09-24          2021  TV-MA  2 Seasons   \n",
              "2 2021-09-24          2021  TV-MA   1 Season   \n",
              "3 2021-09-24          2021  TV-MA   1 Season   \n",
              "4 2021-09-24          2021  TV-MA  2 Seasons   \n",
              "\n",
              "                                           listed_in  \\\n",
              "0                                      Documentaries   \n",
              "1    International TV Shows, TV Dramas, TV Mysteries   \n",
              "2  Crime TV Shows, International TV Shows, TV Act...   \n",
              "3                             Docuseries, Reality TV   \n",
              "4  International TV Shows, Romantic TV Shows, TV ...   \n",
              "\n",
              "                                         description  month_added  \\\n",
              "0  As her father nears the end of his life, filmm...            9   \n",
              "1  After crossing paths at a party, a Cape Town t...            9   \n",
              "2  To protect his family from a powerful drug lor...            9   \n",
              "3  Feuds, flirtations and toilet talk go down amo...            9   \n",
              "4  In a city of coaching centers known to train I...            9   \n",
              "\n",
              "  month_name_added  year_added  count first_country target_ages  \n",
              "0        September        2021      1           USA       Teens  \n",
              "1        September        2021      1  South Africa      Adults  \n",
              "2        September        2021      1           USA      Adults  \n",
              "3        September        2021      1           USA      Adults  \n",
              "4        September        2021      1         India      Adults  "
            ],
            "text/html": [
              "\n",
              "  <div id=\"df-64aa1ce9-d337-4ae6-a249-ce61e1c89881\">\n",
              "    <div class=\"colab-df-container\">\n",
              "      <div>\n",
              "<style scoped>\n",
              "    .dataframe tbody tr th:only-of-type {\n",
              "        vertical-align: middle;\n",
              "    }\n",
              "\n",
              "    .dataframe tbody tr th {\n",
              "        vertical-align: top;\n",
              "    }\n",
              "\n",
              "    .dataframe thead th {\n",
              "        text-align: right;\n",
              "    }\n",
              "</style>\n",
              "<table border=\"1\" class=\"dataframe\">\n",
              "  <thead>\n",
              "    <tr style=\"text-align: right;\">\n",
              "      <th></th>\n",
              "      <th>show_id</th>\n",
              "      <th>type</th>\n",
              "      <th>title</th>\n",
              "      <th>director</th>\n",
              "      <th>cast</th>\n",
              "      <th>country</th>\n",
              "      <th>date_added</th>\n",
              "      <th>release_year</th>\n",
              "      <th>rating</th>\n",
              "      <th>duration</th>\n",
              "      <th>listed_in</th>\n",
              "      <th>description</th>\n",
              "      <th>month_added</th>\n",
              "      <th>month_name_added</th>\n",
              "      <th>year_added</th>\n",
              "      <th>count</th>\n",
              "      <th>first_country</th>\n",
              "      <th>target_ages</th>\n",
              "    </tr>\n",
              "  </thead>\n",
              "  <tbody>\n",
              "    <tr>\n",
              "      <th>0</th>\n",
              "      <td>s1</td>\n",
              "      <td>Movie</td>\n",
              "      <td>dick johnson is dead</td>\n",
              "      <td>Kirsten Johnson</td>\n",
              "      <td>No data</td>\n",
              "      <td>United States</td>\n",
              "      <td>2021-09-25</td>\n",
              "      <td>2020</td>\n",
              "      <td>PG-13</td>\n",
              "      <td>90 min</td>\n",
              "      <td>Documentaries</td>\n",
              "      <td>As her father nears the end of his life, filmm...</td>\n",
              "      <td>9</td>\n",
              "      <td>September</td>\n",
              "      <td>2021</td>\n",
              "      <td>1</td>\n",
              "      <td>USA</td>\n",
              "      <td>Teens</td>\n",
              "    </tr>\n",
              "    <tr>\n",
              "      <th>1</th>\n",
              "      <td>s2</td>\n",
              "      <td>TV Show</td>\n",
              "      <td>blood &amp; water</td>\n",
              "      <td>No Data</td>\n",
              "      <td>Ama Qamata, Khosi Ngema, Gail Mabalane, Thaban...</td>\n",
              "      <td>South Africa</td>\n",
              "      <td>2021-09-24</td>\n",
              "      <td>2021</td>\n",
              "      <td>TV-MA</td>\n",
              "      <td>2 Seasons</td>\n",
              "      <td>International TV Shows, TV Dramas, TV Mysteries</td>\n",
              "      <td>After crossing paths at a party, a Cape Town t...</td>\n",
              "      <td>9</td>\n",
              "      <td>September</td>\n",
              "      <td>2021</td>\n",
              "      <td>1</td>\n",
              "      <td>South Africa</td>\n",
              "      <td>Adults</td>\n",
              "    </tr>\n",
              "    <tr>\n",
              "      <th>2</th>\n",
              "      <td>s3</td>\n",
              "      <td>TV Show</td>\n",
              "      <td>ganglands</td>\n",
              "      <td>Julien Leclercq</td>\n",
              "      <td>Sami Bouajila, Tracy Gotoas, Samuel Jouy, Nabi...</td>\n",
              "      <td>United States</td>\n",
              "      <td>2021-09-24</td>\n",
              "      <td>2021</td>\n",
              "      <td>TV-MA</td>\n",
              "      <td>1 Season</td>\n",
              "      <td>Crime TV Shows, International TV Shows, TV Act...</td>\n",
              "      <td>To protect his family from a powerful drug lor...</td>\n",
              "      <td>9</td>\n",
              "      <td>September</td>\n",
              "      <td>2021</td>\n",
              "      <td>1</td>\n",
              "      <td>USA</td>\n",
              "      <td>Adults</td>\n",
              "    </tr>\n",
              "    <tr>\n",
              "      <th>3</th>\n",
              "      <td>s4</td>\n",
              "      <td>TV Show</td>\n",
              "      <td>jailbirds new orleans</td>\n",
              "      <td>No Data</td>\n",
              "      <td>No data</td>\n",
              "      <td>United States</td>\n",
              "      <td>2021-09-24</td>\n",
              "      <td>2021</td>\n",
              "      <td>TV-MA</td>\n",
              "      <td>1 Season</td>\n",
              "      <td>Docuseries, Reality TV</td>\n",
              "      <td>Feuds, flirtations and toilet talk go down amo...</td>\n",
              "      <td>9</td>\n",
              "      <td>September</td>\n",
              "      <td>2021</td>\n",
              "      <td>1</td>\n",
              "      <td>USA</td>\n",
              "      <td>Adults</td>\n",
              "    </tr>\n",
              "    <tr>\n",
              "      <th>4</th>\n",
              "      <td>s5</td>\n",
              "      <td>TV Show</td>\n",
              "      <td>kota factory</td>\n",
              "      <td>No Data</td>\n",
              "      <td>Mayur More, Jitendra Kumar, Ranjan Raj, Alam K...</td>\n",
              "      <td>India</td>\n",
              "      <td>2021-09-24</td>\n",
              "      <td>2021</td>\n",
              "      <td>TV-MA</td>\n",
              "      <td>2 Seasons</td>\n",
              "      <td>International TV Shows, Romantic TV Shows, TV ...</td>\n",
              "      <td>In a city of coaching centers known to train I...</td>\n",
              "      <td>9</td>\n",
              "      <td>September</td>\n",
              "      <td>2021</td>\n",
              "      <td>1</td>\n",
              "      <td>India</td>\n",
              "      <td>Adults</td>\n",
              "    </tr>\n",
              "  </tbody>\n",
              "</table>\n",
              "</div>\n",
              "      <button class=\"colab-df-convert\" onclick=\"convertToInteractive('df-64aa1ce9-d337-4ae6-a249-ce61e1c89881')\"\n",
              "              title=\"Convert this dataframe to an interactive table.\"\n",
              "              style=\"display:none;\">\n",
              "        \n",
              "  <svg xmlns=\"http://www.w3.org/2000/svg\" height=\"24px\"viewBox=\"0 0 24 24\"\n",
              "       width=\"24px\">\n",
              "    <path d=\"M0 0h24v24H0V0z\" fill=\"none\"/>\n",
              "    <path d=\"M18.56 5.44l.94 2.06.94-2.06 2.06-.94-2.06-.94-.94-2.06-.94 2.06-2.06.94zm-11 1L8.5 8.5l.94-2.06 2.06-.94-2.06-.94L8.5 2.5l-.94 2.06-2.06.94zm10 10l.94 2.06.94-2.06 2.06-.94-2.06-.94-.94-2.06-.94 2.06-2.06.94z\"/><path d=\"M17.41 7.96l-1.37-1.37c-.4-.4-.92-.59-1.43-.59-.52 0-1.04.2-1.43.59L10.3 9.45l-7.72 7.72c-.78.78-.78 2.05 0 2.83L4 21.41c.39.39.9.59 1.41.59.51 0 1.02-.2 1.41-.59l7.78-7.78 2.81-2.81c.8-.78.8-2.07 0-2.86zM5.41 20L4 18.59l7.72-7.72 1.47 1.35L5.41 20z\"/>\n",
              "  </svg>\n",
              "      </button>\n",
              "      \n",
              "  <style>\n",
              "    .colab-df-container {\n",
              "      display:flex;\n",
              "      flex-wrap:wrap;\n",
              "      gap: 12px;\n",
              "    }\n",
              "\n",
              "    .colab-df-convert {\n",
              "      background-color: #E8F0FE;\n",
              "      border: none;\n",
              "      border-radius: 50%;\n",
              "      cursor: pointer;\n",
              "      display: none;\n",
              "      fill: #1967D2;\n",
              "      height: 32px;\n",
              "      padding: 0 0 0 0;\n",
              "      width: 32px;\n",
              "    }\n",
              "\n",
              "    .colab-df-convert:hover {\n",
              "      background-color: #E2EBFA;\n",
              "      box-shadow: 0px 1px 2px rgba(60, 64, 67, 0.3), 0px 1px 3px 1px rgba(60, 64, 67, 0.15);\n",
              "      fill: #174EA6;\n",
              "    }\n",
              "\n",
              "    [theme=dark] .colab-df-convert {\n",
              "      background-color: #3B4455;\n",
              "      fill: #D2E3FC;\n",
              "    }\n",
              "\n",
              "    [theme=dark] .colab-df-convert:hover {\n",
              "      background-color: #434B5C;\n",
              "      box-shadow: 0px 1px 3px 1px rgba(0, 0, 0, 0.15);\n",
              "      filter: drop-shadow(0px 1px 2px rgba(0, 0, 0, 0.3));\n",
              "      fill: #FFFFFF;\n",
              "    }\n",
              "  </style>\n",
              "\n",
              "      <script>\n",
              "        const buttonEl =\n",
              "          document.querySelector('#df-64aa1ce9-d337-4ae6-a249-ce61e1c89881 button.colab-df-convert');\n",
              "        buttonEl.style.display =\n",
              "          google.colab.kernel.accessAllowed ? 'block' : 'none';\n",
              "\n",
              "        async function convertToInteractive(key) {\n",
              "          const element = document.querySelector('#df-64aa1ce9-d337-4ae6-a249-ce61e1c89881');\n",
              "          const dataTable =\n",
              "            await google.colab.kernel.invokeFunction('convertToInteractive',\n",
              "                                                     [key], {});\n",
              "          if (!dataTable) return;\n",
              "\n",
              "          const docLinkHtml = 'Like what you see? Visit the ' +\n",
              "            '<a target=\"_blank\" href=https://colab.research.google.com/notebooks/data_table.ipynb>data table notebook</a>'\n",
              "            + ' to learn more about interactive tables.';\n",
              "          element.innerHTML = '';\n",
              "          dataTable['output_type'] = 'display_data';\n",
              "          await google.colab.output.renderOutput(dataTable, element);\n",
              "          const docLink = document.createElement('div');\n",
              "          docLink.innerHTML = docLinkHtml;\n",
              "          element.appendChild(docLink);\n",
              "        }\n",
              "      </script>\n",
              "    </div>\n",
              "  </div>\n",
              "  "
            ]
          },
          "metadata": {},
          "execution_count": 137
        }
      ]
    },
    {
      "cell_type": "code",
      "source": [
        ""
      ],
      "metadata": {
        "id": "N-ICCgzBEzAX"
      },
      "execution_count": null,
      "outputs": []
    },
    {
      "cell_type": "code",
      "source": [
        "hulu_data.head(5)"
      ],
      "metadata": {
        "colab": {
          "base_uri": "https://localhost:8080/",
          "height": 337
        },
        "id": "fqFzIq4wvjLv",
        "outputId": "cead594b-aaf4-4638-85c8-d9f40e4b4983"
      },
      "execution_count": null,
      "outputs": [
        {
          "output_type": "execute_result",
          "data": {
            "text/plain": [
              "  show_id   type                           title director  cast country  \\\n",
              "0      s1  Movie  Ricky Velez: Here's Everything      NaN   NaN     NaN   \n",
              "1      s2  Movie                    Silent Night      NaN   NaN     NaN   \n",
              "2      s3  Movie                    The Marksman      NaN   NaN     NaN   \n",
              "3      s4  Movie                            Gaia      NaN   NaN     NaN   \n",
              "4      s5  Movie                        Settlers      NaN   NaN     NaN   \n",
              "\n",
              "         date_added  release_year rating duration                  listed_in  \\\n",
              "0  October 24, 2021          2021  TV-MA      NaN           Comedy, Stand Up   \n",
              "1  October 23, 2021          2020    NaN   94 min     Crime, Drama, Thriller   \n",
              "2  October 23, 2021          2021  PG-13  108 min           Action, Thriller   \n",
              "3  October 22, 2021          2021      R   97 min                     Horror   \n",
              "4  October 22, 2021          2021    NaN  104 min  Science Fiction, Thriller   \n",
              "\n",
              "                                         description  \n",
              "0  ​Comedian Ricky Velez bares it all with his ho...  \n",
              "1  Mark, a low end South London hitman recently r...  \n",
              "2  A hardened Arizona rancher tries to protect an...  \n",
              "3  A forest ranger and two survivalists with a cu...  \n",
              "4  Mankind's earliest settlers on the Martian fro...  "
            ],
            "text/html": [
              "\n",
              "  <div id=\"df-e5f5a12b-c3d9-4f95-9ac0-7062914f8723\">\n",
              "    <div class=\"colab-df-container\">\n",
              "      <div>\n",
              "<style scoped>\n",
              "    .dataframe tbody tr th:only-of-type {\n",
              "        vertical-align: middle;\n",
              "    }\n",
              "\n",
              "    .dataframe tbody tr th {\n",
              "        vertical-align: top;\n",
              "    }\n",
              "\n",
              "    .dataframe thead th {\n",
              "        text-align: right;\n",
              "    }\n",
              "</style>\n",
              "<table border=\"1\" class=\"dataframe\">\n",
              "  <thead>\n",
              "    <tr style=\"text-align: right;\">\n",
              "      <th></th>\n",
              "      <th>show_id</th>\n",
              "      <th>type</th>\n",
              "      <th>title</th>\n",
              "      <th>director</th>\n",
              "      <th>cast</th>\n",
              "      <th>country</th>\n",
              "      <th>date_added</th>\n",
              "      <th>release_year</th>\n",
              "      <th>rating</th>\n",
              "      <th>duration</th>\n",
              "      <th>listed_in</th>\n",
              "      <th>description</th>\n",
              "    </tr>\n",
              "  </thead>\n",
              "  <tbody>\n",
              "    <tr>\n",
              "      <th>0</th>\n",
              "      <td>s1</td>\n",
              "      <td>Movie</td>\n",
              "      <td>Ricky Velez: Here's Everything</td>\n",
              "      <td>NaN</td>\n",
              "      <td>NaN</td>\n",
              "      <td>NaN</td>\n",
              "      <td>October 24, 2021</td>\n",
              "      <td>2021</td>\n",
              "      <td>TV-MA</td>\n",
              "      <td>NaN</td>\n",
              "      <td>Comedy, Stand Up</td>\n",
              "      <td>​Comedian Ricky Velez bares it all with his ho...</td>\n",
              "    </tr>\n",
              "    <tr>\n",
              "      <th>1</th>\n",
              "      <td>s2</td>\n",
              "      <td>Movie</td>\n",
              "      <td>Silent Night</td>\n",
              "      <td>NaN</td>\n",
              "      <td>NaN</td>\n",
              "      <td>NaN</td>\n",
              "      <td>October 23, 2021</td>\n",
              "      <td>2020</td>\n",
              "      <td>NaN</td>\n",
              "      <td>94 min</td>\n",
              "      <td>Crime, Drama, Thriller</td>\n",
              "      <td>Mark, a low end South London hitman recently r...</td>\n",
              "    </tr>\n",
              "    <tr>\n",
              "      <th>2</th>\n",
              "      <td>s3</td>\n",
              "      <td>Movie</td>\n",
              "      <td>The Marksman</td>\n",
              "      <td>NaN</td>\n",
              "      <td>NaN</td>\n",
              "      <td>NaN</td>\n",
              "      <td>October 23, 2021</td>\n",
              "      <td>2021</td>\n",
              "      <td>PG-13</td>\n",
              "      <td>108 min</td>\n",
              "      <td>Action, Thriller</td>\n",
              "      <td>A hardened Arizona rancher tries to protect an...</td>\n",
              "    </tr>\n",
              "    <tr>\n",
              "      <th>3</th>\n",
              "      <td>s4</td>\n",
              "      <td>Movie</td>\n",
              "      <td>Gaia</td>\n",
              "      <td>NaN</td>\n",
              "      <td>NaN</td>\n",
              "      <td>NaN</td>\n",
              "      <td>October 22, 2021</td>\n",
              "      <td>2021</td>\n",
              "      <td>R</td>\n",
              "      <td>97 min</td>\n",
              "      <td>Horror</td>\n",
              "      <td>A forest ranger and two survivalists with a cu...</td>\n",
              "    </tr>\n",
              "    <tr>\n",
              "      <th>4</th>\n",
              "      <td>s5</td>\n",
              "      <td>Movie</td>\n",
              "      <td>Settlers</td>\n",
              "      <td>NaN</td>\n",
              "      <td>NaN</td>\n",
              "      <td>NaN</td>\n",
              "      <td>October 22, 2021</td>\n",
              "      <td>2021</td>\n",
              "      <td>NaN</td>\n",
              "      <td>104 min</td>\n",
              "      <td>Science Fiction, Thriller</td>\n",
              "      <td>Mankind's earliest settlers on the Martian fro...</td>\n",
              "    </tr>\n",
              "  </tbody>\n",
              "</table>\n",
              "</div>\n",
              "      <button class=\"colab-df-convert\" onclick=\"convertToInteractive('df-e5f5a12b-c3d9-4f95-9ac0-7062914f8723')\"\n",
              "              title=\"Convert this dataframe to an interactive table.\"\n",
              "              style=\"display:none;\">\n",
              "        \n",
              "  <svg xmlns=\"http://www.w3.org/2000/svg\" height=\"24px\"viewBox=\"0 0 24 24\"\n",
              "       width=\"24px\">\n",
              "    <path d=\"M0 0h24v24H0V0z\" fill=\"none\"/>\n",
              "    <path d=\"M18.56 5.44l.94 2.06.94-2.06 2.06-.94-2.06-.94-.94-2.06-.94 2.06-2.06.94zm-11 1L8.5 8.5l.94-2.06 2.06-.94-2.06-.94L8.5 2.5l-.94 2.06-2.06.94zm10 10l.94 2.06.94-2.06 2.06-.94-2.06-.94-.94-2.06-.94 2.06-2.06.94z\"/><path d=\"M17.41 7.96l-1.37-1.37c-.4-.4-.92-.59-1.43-.59-.52 0-1.04.2-1.43.59L10.3 9.45l-7.72 7.72c-.78.78-.78 2.05 0 2.83L4 21.41c.39.39.9.59 1.41.59.51 0 1.02-.2 1.41-.59l7.78-7.78 2.81-2.81c.8-.78.8-2.07 0-2.86zM5.41 20L4 18.59l7.72-7.72 1.47 1.35L5.41 20z\"/>\n",
              "  </svg>\n",
              "      </button>\n",
              "      \n",
              "  <style>\n",
              "    .colab-df-container {\n",
              "      display:flex;\n",
              "      flex-wrap:wrap;\n",
              "      gap: 12px;\n",
              "    }\n",
              "\n",
              "    .colab-df-convert {\n",
              "      background-color: #E8F0FE;\n",
              "      border: none;\n",
              "      border-radius: 50%;\n",
              "      cursor: pointer;\n",
              "      display: none;\n",
              "      fill: #1967D2;\n",
              "      height: 32px;\n",
              "      padding: 0 0 0 0;\n",
              "      width: 32px;\n",
              "    }\n",
              "\n",
              "    .colab-df-convert:hover {\n",
              "      background-color: #E2EBFA;\n",
              "      box-shadow: 0px 1px 2px rgba(60, 64, 67, 0.3), 0px 1px 3px 1px rgba(60, 64, 67, 0.15);\n",
              "      fill: #174EA6;\n",
              "    }\n",
              "\n",
              "    [theme=dark] .colab-df-convert {\n",
              "      background-color: #3B4455;\n",
              "      fill: #D2E3FC;\n",
              "    }\n",
              "\n",
              "    [theme=dark] .colab-df-convert:hover {\n",
              "      background-color: #434B5C;\n",
              "      box-shadow: 0px 1px 3px 1px rgba(0, 0, 0, 0.15);\n",
              "      filter: drop-shadow(0px 1px 2px rgba(0, 0, 0, 0.3));\n",
              "      fill: #FFFFFF;\n",
              "    }\n",
              "  </style>\n",
              "\n",
              "      <script>\n",
              "        const buttonEl =\n",
              "          document.querySelector('#df-e5f5a12b-c3d9-4f95-9ac0-7062914f8723 button.colab-df-convert');\n",
              "        buttonEl.style.display =\n",
              "          google.colab.kernel.accessAllowed ? 'block' : 'none';\n",
              "\n",
              "        async function convertToInteractive(key) {\n",
              "          const element = document.querySelector('#df-e5f5a12b-c3d9-4f95-9ac0-7062914f8723');\n",
              "          const dataTable =\n",
              "            await google.colab.kernel.invokeFunction('convertToInteractive',\n",
              "                                                     [key], {});\n",
              "          if (!dataTable) return;\n",
              "\n",
              "          const docLinkHtml = 'Like what you see? Visit the ' +\n",
              "            '<a target=\"_blank\" href=https://colab.research.google.com/notebooks/data_table.ipynb>data table notebook</a>'\n",
              "            + ' to learn more about interactive tables.';\n",
              "          element.innerHTML = '';\n",
              "          dataTable['output_type'] = 'display_data';\n",
              "          await google.colab.output.renderOutput(dataTable, element);\n",
              "          const docLink = document.createElement('div');\n",
              "          docLink.innerHTML = docLinkHtml;\n",
              "          element.appendChild(docLink);\n",
              "        }\n",
              "      </script>\n",
              "    </div>\n",
              "  </div>\n",
              "  "
            ]
          },
          "metadata": {},
          "execution_count": 138
        }
      ]
    },
    {
      "cell_type": "markdown",
      "source": [
        "Null Rate in coloumns "
      ],
      "metadata": {
        "id": "B_m79hyXeIy3"
      }
    },
    {
      "cell_type": "code",
      "source": [
        "for col in netflix_data.columns:\n",
        "    null_rate = netflix_data[col].isna().sum()/np.shape(netflix_data)[0] *100\n",
        "    if null_rate >0:\n",
        "      print(\"{} null rate : {}%\".format(col,round(null_rate,2)))"
      ],
      "metadata": {
        "id": "ALqb7xuUdfIe"
      },
      "execution_count": null,
      "outputs": []
    },
    {
      "cell_type": "code",
      "source": [
        "for col in amazon_data.columns:\n",
        "    null_rate = amazon_data[col].isna().sum() / np.shape(amazon_data)[0] * 100 \n",
        "    if null_rate > 0 :\n",
        "        print(\"{} null rate: {}%\".format(col,round(null_rate,2)))"
      ],
      "metadata": {
        "id": "obmzt69mePfg"
      },
      "execution_count": null,
      "outputs": []
    },
    {
      "cell_type": "code",
      "source": [
        "for i in disney_data.columns:\n",
        "    null_rate = disney_data[i].isna().sum() / len(disney_data) * 100 \n",
        "    if null_rate > 0 :\n",
        "        print(\"{} null rate: {}%\".format(i,round(null_rate,2)))"
      ],
      "metadata": {
        "id": "eUtOHcD8eziR"
      },
      "execution_count": null,
      "outputs": []
    },
    {
      "cell_type": "code",
      "source": [
        "for i in hulu_data.columns:\n",
        "    null_rate = hulu_data[i].isna().sum() / len(hulu_data) * 100 \n",
        "    if null_rate > 0 :\n",
        "        print(\"{} null rate: {}%\".format(i,round(null_rate,2)))"
      ],
      "metadata": {
        "colab": {
          "base_uri": "https://localhost:8080/"
        },
        "id": "J7p5mdxehRZB",
        "outputId": "9359c253-0ffd-4e1e-aa0f-d9a08f948e1c"
      },
      "execution_count": null,
      "outputs": [
        {
          "output_type": "stream",
          "name": "stdout",
          "text": [
            "director null rate: 99.9%\n",
            "cast null rate: 100.0%\n",
            "country null rate: 47.28%\n",
            "date_added null rate: 0.91%\n",
            "rating null rate: 16.92%\n",
            "duration null rate: 15.59%\n",
            "description null rate: 0.13%\n"
          ]
        }
      ]
    },
    {
      "cell_type": "markdown",
      "source": [
        "Dealing with missing Data"
      ],
      "metadata": {
        "id": "FnP9wPsLvuDv"
      }
    },
    {
      "cell_type": "code",
      "source": [
        ""
      ],
      "metadata": {
        "id": "bfMC6MsYzS4x"
      },
      "execution_count": null,
      "outputs": []
    },
    {
      "cell_type": "code",
      "source": [
        "netflix_data['country'] = netflix_data['country'].fillna(netflix_data['country'].mode()[0])\n",
        "netflix_data['cast'] = netflix_data['cast'].fillna(\"No data\")\n",
        "netflix_data['director'] = netflix_data['director'].fillna(\"No Data\")\n"
      ],
      "metadata": {
        "id": "WGnxcymmvtg8"
      },
      "execution_count": null,
      "outputs": []
    },
    {
      "cell_type": "code",
      "source": [
        "netflix_data.dropna(inplace=True)"
      ],
      "metadata": {
        "id": "0DTiAxXp1Zkd"
      },
      "execution_count": null,
      "outputs": []
    },
    {
      "cell_type": "code",
      "source": [
        "netflix_data.drop_duplicates( inplace=True)"
      ],
      "metadata": {
        "id": "15l3H4U93Eec"
      },
      "execution_count": null,
      "outputs": []
    },
    {
      "cell_type": "code",
      "source": [
        "netflix_data.isnull().sum()"
      ],
      "metadata": {
        "colab": {
          "base_uri": "https://localhost:8080/"
        },
        "id": "-NwSYHwQ0szh",
        "outputId": "b9a25825-73bf-47e9-9499-08347d049488"
      },
      "execution_count": null,
      "outputs": [
        {
          "output_type": "execute_result",
          "data": {
            "text/plain": [
              "show_id             0\n",
              "type                0\n",
              "title               0\n",
              "director            0\n",
              "cast                0\n",
              "country             0\n",
              "date_added          0\n",
              "release_year        0\n",
              "rating              0\n",
              "duration            0\n",
              "listed_in           0\n",
              "description         0\n",
              "month_added         0\n",
              "month_name_added    0\n",
              "year_added          0\n",
              "count               0\n",
              "first_country       0\n",
              "target_ages         0\n",
              "dtype: int64"
            ]
          },
          "metadata": {},
          "execution_count": 146
        }
      ]
    },
    {
      "cell_type": "code",
      "source": [
        "netflix_data.info()"
      ],
      "metadata": {
        "colab": {
          "base_uri": "https://localhost:8080/"
        },
        "id": "KnwVdw_O1F5g",
        "outputId": "b85b14be-b5c3-4f0c-d884-79404135cc81"
      },
      "execution_count": null,
      "outputs": [
        {
          "output_type": "stream",
          "name": "stdout",
          "text": [
            "<class 'pandas.core.frame.DataFrame'>\n",
            "Int64Index: 8790 entries, 0 to 8806\n",
            "Data columns (total 18 columns):\n",
            " #   Column            Non-Null Count  Dtype         \n",
            "---  ------            --------------  -----         \n",
            " 0   show_id           8790 non-null   object        \n",
            " 1   type              8790 non-null   object        \n",
            " 2   title             8790 non-null   object        \n",
            " 3   director          8790 non-null   object        \n",
            " 4   cast              8790 non-null   object        \n",
            " 5   country           8790 non-null   object        \n",
            " 6   date_added        8790 non-null   datetime64[ns]\n",
            " 7   release_year      8790 non-null   int64         \n",
            " 8   rating            8790 non-null   object        \n",
            " 9   duration          8790 non-null   object        \n",
            " 10  listed_in         8790 non-null   object        \n",
            " 11  description       8790 non-null   object        \n",
            " 12  month_added       8790 non-null   int64         \n",
            " 13  month_name_added  8790 non-null   object        \n",
            " 14  year_added        8790 non-null   int64         \n",
            " 15  count             8790 non-null   int64         \n",
            " 16  first_country     8790 non-null   object        \n",
            " 17  target_ages       8790 non-null   object        \n",
            "dtypes: datetime64[ns](1), int64(4), object(13)\n",
            "memory usage: 1.3+ MB\n"
          ]
        }
      ]
    },
    {
      "cell_type": "code",
      "source": [
        "amazon_data['country'] = amazon_data['country'].fillna(amazon_data['country'].mode()[0])\n",
        "amazon_data['cast'] = amazon_data['cast'].fillna(\"No data\")\n",
        "amazon_data['director'] = amazon_data['director'].fillna(\"No Data\")\n",
        "amazon_data['date_added'] = amazon_data['date_added'].fillna(\"No Data\")\n",
        "amazon_data[\"rating\"] = amazon_data[\"rating\"].fillna(\"No Data\")\n",
        "amazon_data.dropna(how = \"all\",inplace=True)\n",
        "amazon_data.drop_duplicates( inplace=True)\n",
        "amazon_data.isnull().sum()"
      ],
      "metadata": {
        "colab": {
          "base_uri": "https://localhost:8080/"
        },
        "id": "R3ZOMRZa6_Mk",
        "outputId": "582efe27-7654-4c3b-f8e8-ffc348f8ebb2"
      },
      "execution_count": null,
      "outputs": [
        {
          "output_type": "execute_result",
          "data": {
            "text/plain": [
              "show_id         0\n",
              "type            0\n",
              "title           0\n",
              "director        0\n",
              "cast            0\n",
              "country         0\n",
              "date_added      0\n",
              "release_year    0\n",
              "rating          0\n",
              "duration        0\n",
              "listed_in       0\n",
              "description     0\n",
              "dtype: int64"
            ]
          },
          "metadata": {},
          "execution_count": 148
        }
      ]
    },
    {
      "cell_type": "code",
      "source": [
        "amazon_data.info()"
      ],
      "metadata": {
        "colab": {
          "base_uri": "https://localhost:8080/"
        },
        "id": "Tkj81mRQ7OYo",
        "outputId": "9942434f-bdd5-468d-aaf9-26ec51cf9caa"
      },
      "execution_count": null,
      "outputs": [
        {
          "output_type": "stream",
          "name": "stdout",
          "text": [
            "<class 'pandas.core.frame.DataFrame'>\n",
            "Int64Index: 9668 entries, 0 to 9667\n",
            "Data columns (total 12 columns):\n",
            " #   Column        Non-Null Count  Dtype \n",
            "---  ------        --------------  ----- \n",
            " 0   show_id       9668 non-null   object\n",
            " 1   type          9668 non-null   object\n",
            " 2   title         9668 non-null   object\n",
            " 3   director      9668 non-null   object\n",
            " 4   cast          9668 non-null   object\n",
            " 5   country       9668 non-null   object\n",
            " 6   date_added    9668 non-null   object\n",
            " 7   release_year  9668 non-null   int64 \n",
            " 8   rating        9668 non-null   object\n",
            " 9   duration      9668 non-null   object\n",
            " 10  listed_in     9668 non-null   object\n",
            " 11  description   9668 non-null   object\n",
            "dtypes: int64(1), object(11)\n",
            "memory usage: 981.9+ KB\n"
          ]
        }
      ]
    },
    {
      "cell_type": "code",
      "source": [
        "disney_data['country'] = disney_data['country'].fillna(disney_data['country'].mode()[0])\n",
        "disney_data['cast'] = disney_data['cast'].fillna(\"No Data\")\n",
        "disney_data['director'] = disney_data['director'].fillna(\"No Data\")\n",
        "disney_data['date_added'] = disney_data['date_added'].fillna(\" No Data\")\n",
        "disney_data['rating'] = disney_data['rating'].fillna(\"No Data\")\n",
        "disney_data.dropna(how = \"all\",inplace=True)\n",
        "disney_data.drop_duplicates( inplace=True)\n",
        "disney_data.isnull().sum()"
      ],
      "metadata": {
        "colab": {
          "base_uri": "https://localhost:8080/"
        },
        "id": "SdhMoz6167AX",
        "outputId": "3797520f-01d6-42ed-a646-e64158d75b4e"
      },
      "execution_count": null,
      "outputs": [
        {
          "output_type": "execute_result",
          "data": {
            "text/plain": [
              "show_id         0\n",
              "type            0\n",
              "title           0\n",
              "director        0\n",
              "cast            0\n",
              "country         0\n",
              "date_added      0\n",
              "release_year    0\n",
              "rating          0\n",
              "duration        0\n",
              "listed_in       0\n",
              "description     0\n",
              "dtype: int64"
            ]
          },
          "metadata": {},
          "execution_count": 150
        }
      ]
    },
    {
      "cell_type": "code",
      "source": [
        "disney_data.info()"
      ],
      "metadata": {
        "colab": {
          "base_uri": "https://localhost:8080/"
        },
        "id": "JhqnfzEG67ur",
        "outputId": "9e921fcd-646e-4be6-a741-196a9fc0d7c3"
      },
      "execution_count": null,
      "outputs": [
        {
          "output_type": "stream",
          "name": "stdout",
          "text": [
            "<class 'pandas.core.frame.DataFrame'>\n",
            "Int64Index: 1450 entries, 0 to 1449\n",
            "Data columns (total 12 columns):\n",
            " #   Column        Non-Null Count  Dtype \n",
            "---  ------        --------------  ----- \n",
            " 0   show_id       1450 non-null   object\n",
            " 1   type          1450 non-null   object\n",
            " 2   title         1450 non-null   object\n",
            " 3   director      1450 non-null   object\n",
            " 4   cast          1450 non-null   object\n",
            " 5   country       1450 non-null   object\n",
            " 6   date_added    1450 non-null   object\n",
            " 7   release_year  1450 non-null   int64 \n",
            " 8   rating        1450 non-null   object\n",
            " 9   duration      1450 non-null   object\n",
            " 10  listed_in     1450 non-null   object\n",
            " 11  description   1450 non-null   object\n",
            "dtypes: int64(1), object(11)\n",
            "memory usage: 147.3+ KB\n"
          ]
        }
      ]
    },
    {
      "cell_type": "code",
      "source": [
        "hulu_data['country'] = hulu_data['country'].fillna(hulu_data['country'].mode()[0])\n",
        "hulu_data['cast'] = hulu_data['cast'].fillna(\"No Data\")\n",
        "hulu_data['director'] = hulu_data['director'].fillna(\"No Data\")\n",
        "hulu_data['date_added'] = hulu_data['date_added'].fillna(\" No Data\")\n",
        "hulu_data['rating'] = hulu_data['rating'].fillna(\"No Data\")\n",
        "hulu_data['duration'] = hulu_data['duration'].fillna(\"No Data\")\n",
        "hulu_data['description'] = hulu_data['description'].fillna(\"No Data\") \n",
        "hulu_data.dropna(how = \"all\",inplace=True)\n",
        "hulu_data.drop_duplicates( inplace=True)\n",
        "hulu_data.isnull().sum()"
      ],
      "metadata": {
        "colab": {
          "base_uri": "https://localhost:8080/"
        },
        "id": "MfblQOuZ7WEx",
        "outputId": "4d64139a-f45a-490b-d68c-97d216c196d0"
      },
      "execution_count": null,
      "outputs": [
        {
          "output_type": "execute_result",
          "data": {
            "text/plain": [
              "show_id         0\n",
              "type            0\n",
              "title           0\n",
              "director        0\n",
              "cast            0\n",
              "country         0\n",
              "date_added      0\n",
              "release_year    0\n",
              "rating          0\n",
              "duration        0\n",
              "listed_in       0\n",
              "description     0\n",
              "dtype: int64"
            ]
          },
          "metadata": {},
          "execution_count": 152
        }
      ]
    },
    {
      "cell_type": "code",
      "source": [
        "hulu_data"
      ],
      "metadata": {
        "colab": {
          "base_uri": "https://localhost:8080/",
          "height": 676
        },
        "id": "5DdUG34S8J77",
        "outputId": "0e34bf9e-3c00-43a8-ec3a-d12fce5d7b1a"
      },
      "execution_count": null,
      "outputs": [
        {
          "output_type": "execute_result",
          "data": {
            "text/plain": [
              "     show_id     type                           title director     cast  \\\n",
              "0         s1    Movie  Ricky Velez: Here's Everything  No Data  No Data   \n",
              "1         s2    Movie                    Silent Night  No Data  No Data   \n",
              "2         s3    Movie                    The Marksman  No Data  No Data   \n",
              "3         s4    Movie                            Gaia  No Data  No Data   \n",
              "4         s5    Movie                        Settlers  No Data  No Data   \n",
              "...      ...      ...                             ...      ...      ...   \n",
              "3068   s3069  TV Show  Star Trek: The Original Series  No Data  No Data   \n",
              "3069   s3070  TV Show              Star Trek: Voyager  No Data  No Data   \n",
              "3070   s3071  TV Show                       The Fades  No Data  No Data   \n",
              "3071   s3072  TV Show               The Twilight Zone  No Data  No Data   \n",
              "3072   s3073  TV Show             Tokyo Magnitude 8.0  No Data  No Data   \n",
              "\n",
              "             country        date_added  release_year   rating   duration  \\\n",
              "0      United States  October 24, 2021          2021    TV-MA    No Data   \n",
              "1      United States  October 23, 2021          2020  No Data     94 min   \n",
              "2      United States  October 23, 2021          2021    PG-13    108 min   \n",
              "3      United States  October 22, 2021          2021        R     97 min   \n",
              "4      United States  October 22, 2021          2021  No Data    104 min   \n",
              "...              ...               ...           ...      ...        ...   \n",
              "3068   United States           No Data          1966    TV-PG  3 Seasons   \n",
              "3069   United States           No Data          1997    TV-PG  7 Seasons   \n",
              "3070  United Kingdom           No Data          2011    TV-14   1 Season   \n",
              "3071   United States           No Data          1959    TV-PG  5 Seasons   \n",
              "3072           Japan           No Data          2009    TV-14   1 Season   \n",
              "\n",
              "                                   listed_in  \\\n",
              "0                           Comedy, Stand Up   \n",
              "1                     Crime, Drama, Thriller   \n",
              "2                           Action, Thriller   \n",
              "3                                     Horror   \n",
              "4                  Science Fiction, Thriller   \n",
              "...                                      ...   \n",
              "3068             Action, Adventure, Classics   \n",
              "3069      Action, Adventure, Science Fiction   \n",
              "3070  Horror, International, Science Fiction   \n",
              "3071     Classics, Science Fiction, Thriller   \n",
              "3072             Anime, Drama, International   \n",
              "\n",
              "                                            description  \n",
              "0     ​Comedian Ricky Velez bares it all with his ho...  \n",
              "1     Mark, a low end South London hitman recently r...  \n",
              "2     A hardened Arizona rancher tries to protect an...  \n",
              "3     A forest ranger and two survivalists with a cu...  \n",
              "4     Mankind's earliest settlers on the Martian fro...  \n",
              "...                                                 ...  \n",
              "3068  The 23rd century adventures of Captain James T...  \n",
              "3069  Catapulted into the distant sector of the gala...  \n",
              "3070  Seventeen-year-old Paul is haunted by apocalyp...  \n",
              "3071  Rod Serling's seminal anthology series focused...  \n",
              "3072  The devastation is unleashed in the span of se...  \n",
              "\n",
              "[3073 rows x 12 columns]"
            ],
            "text/html": [
              "\n",
              "  <div id=\"df-4c568682-7b45-4134-82d2-9b025b15fd76\">\n",
              "    <div class=\"colab-df-container\">\n",
              "      <div>\n",
              "<style scoped>\n",
              "    .dataframe tbody tr th:only-of-type {\n",
              "        vertical-align: middle;\n",
              "    }\n",
              "\n",
              "    .dataframe tbody tr th {\n",
              "        vertical-align: top;\n",
              "    }\n",
              "\n",
              "    .dataframe thead th {\n",
              "        text-align: right;\n",
              "    }\n",
              "</style>\n",
              "<table border=\"1\" class=\"dataframe\">\n",
              "  <thead>\n",
              "    <tr style=\"text-align: right;\">\n",
              "      <th></th>\n",
              "      <th>show_id</th>\n",
              "      <th>type</th>\n",
              "      <th>title</th>\n",
              "      <th>director</th>\n",
              "      <th>cast</th>\n",
              "      <th>country</th>\n",
              "      <th>date_added</th>\n",
              "      <th>release_year</th>\n",
              "      <th>rating</th>\n",
              "      <th>duration</th>\n",
              "      <th>listed_in</th>\n",
              "      <th>description</th>\n",
              "    </tr>\n",
              "  </thead>\n",
              "  <tbody>\n",
              "    <tr>\n",
              "      <th>0</th>\n",
              "      <td>s1</td>\n",
              "      <td>Movie</td>\n",
              "      <td>Ricky Velez: Here's Everything</td>\n",
              "      <td>No Data</td>\n",
              "      <td>No Data</td>\n",
              "      <td>United States</td>\n",
              "      <td>October 24, 2021</td>\n",
              "      <td>2021</td>\n",
              "      <td>TV-MA</td>\n",
              "      <td>No Data</td>\n",
              "      <td>Comedy, Stand Up</td>\n",
              "      <td>​Comedian Ricky Velez bares it all with his ho...</td>\n",
              "    </tr>\n",
              "    <tr>\n",
              "      <th>1</th>\n",
              "      <td>s2</td>\n",
              "      <td>Movie</td>\n",
              "      <td>Silent Night</td>\n",
              "      <td>No Data</td>\n",
              "      <td>No Data</td>\n",
              "      <td>United States</td>\n",
              "      <td>October 23, 2021</td>\n",
              "      <td>2020</td>\n",
              "      <td>No Data</td>\n",
              "      <td>94 min</td>\n",
              "      <td>Crime, Drama, Thriller</td>\n",
              "      <td>Mark, a low end South London hitman recently r...</td>\n",
              "    </tr>\n",
              "    <tr>\n",
              "      <th>2</th>\n",
              "      <td>s3</td>\n",
              "      <td>Movie</td>\n",
              "      <td>The Marksman</td>\n",
              "      <td>No Data</td>\n",
              "      <td>No Data</td>\n",
              "      <td>United States</td>\n",
              "      <td>October 23, 2021</td>\n",
              "      <td>2021</td>\n",
              "      <td>PG-13</td>\n",
              "      <td>108 min</td>\n",
              "      <td>Action, Thriller</td>\n",
              "      <td>A hardened Arizona rancher tries to protect an...</td>\n",
              "    </tr>\n",
              "    <tr>\n",
              "      <th>3</th>\n",
              "      <td>s4</td>\n",
              "      <td>Movie</td>\n",
              "      <td>Gaia</td>\n",
              "      <td>No Data</td>\n",
              "      <td>No Data</td>\n",
              "      <td>United States</td>\n",
              "      <td>October 22, 2021</td>\n",
              "      <td>2021</td>\n",
              "      <td>R</td>\n",
              "      <td>97 min</td>\n",
              "      <td>Horror</td>\n",
              "      <td>A forest ranger and two survivalists with a cu...</td>\n",
              "    </tr>\n",
              "    <tr>\n",
              "      <th>4</th>\n",
              "      <td>s5</td>\n",
              "      <td>Movie</td>\n",
              "      <td>Settlers</td>\n",
              "      <td>No Data</td>\n",
              "      <td>No Data</td>\n",
              "      <td>United States</td>\n",
              "      <td>October 22, 2021</td>\n",
              "      <td>2021</td>\n",
              "      <td>No Data</td>\n",
              "      <td>104 min</td>\n",
              "      <td>Science Fiction, Thriller</td>\n",
              "      <td>Mankind's earliest settlers on the Martian fro...</td>\n",
              "    </tr>\n",
              "    <tr>\n",
              "      <th>...</th>\n",
              "      <td>...</td>\n",
              "      <td>...</td>\n",
              "      <td>...</td>\n",
              "      <td>...</td>\n",
              "      <td>...</td>\n",
              "      <td>...</td>\n",
              "      <td>...</td>\n",
              "      <td>...</td>\n",
              "      <td>...</td>\n",
              "      <td>...</td>\n",
              "      <td>...</td>\n",
              "      <td>...</td>\n",
              "    </tr>\n",
              "    <tr>\n",
              "      <th>3068</th>\n",
              "      <td>s3069</td>\n",
              "      <td>TV Show</td>\n",
              "      <td>Star Trek: The Original Series</td>\n",
              "      <td>No Data</td>\n",
              "      <td>No Data</td>\n",
              "      <td>United States</td>\n",
              "      <td>No Data</td>\n",
              "      <td>1966</td>\n",
              "      <td>TV-PG</td>\n",
              "      <td>3 Seasons</td>\n",
              "      <td>Action, Adventure, Classics</td>\n",
              "      <td>The 23rd century adventures of Captain James T...</td>\n",
              "    </tr>\n",
              "    <tr>\n",
              "      <th>3069</th>\n",
              "      <td>s3070</td>\n",
              "      <td>TV Show</td>\n",
              "      <td>Star Trek: Voyager</td>\n",
              "      <td>No Data</td>\n",
              "      <td>No Data</td>\n",
              "      <td>United States</td>\n",
              "      <td>No Data</td>\n",
              "      <td>1997</td>\n",
              "      <td>TV-PG</td>\n",
              "      <td>7 Seasons</td>\n",
              "      <td>Action, Adventure, Science Fiction</td>\n",
              "      <td>Catapulted into the distant sector of the gala...</td>\n",
              "    </tr>\n",
              "    <tr>\n",
              "      <th>3070</th>\n",
              "      <td>s3071</td>\n",
              "      <td>TV Show</td>\n",
              "      <td>The Fades</td>\n",
              "      <td>No Data</td>\n",
              "      <td>No Data</td>\n",
              "      <td>United Kingdom</td>\n",
              "      <td>No Data</td>\n",
              "      <td>2011</td>\n",
              "      <td>TV-14</td>\n",
              "      <td>1 Season</td>\n",
              "      <td>Horror, International, Science Fiction</td>\n",
              "      <td>Seventeen-year-old Paul is haunted by apocalyp...</td>\n",
              "    </tr>\n",
              "    <tr>\n",
              "      <th>3071</th>\n",
              "      <td>s3072</td>\n",
              "      <td>TV Show</td>\n",
              "      <td>The Twilight Zone</td>\n",
              "      <td>No Data</td>\n",
              "      <td>No Data</td>\n",
              "      <td>United States</td>\n",
              "      <td>No Data</td>\n",
              "      <td>1959</td>\n",
              "      <td>TV-PG</td>\n",
              "      <td>5 Seasons</td>\n",
              "      <td>Classics, Science Fiction, Thriller</td>\n",
              "      <td>Rod Serling's seminal anthology series focused...</td>\n",
              "    </tr>\n",
              "    <tr>\n",
              "      <th>3072</th>\n",
              "      <td>s3073</td>\n",
              "      <td>TV Show</td>\n",
              "      <td>Tokyo Magnitude 8.0</td>\n",
              "      <td>No Data</td>\n",
              "      <td>No Data</td>\n",
              "      <td>Japan</td>\n",
              "      <td>No Data</td>\n",
              "      <td>2009</td>\n",
              "      <td>TV-14</td>\n",
              "      <td>1 Season</td>\n",
              "      <td>Anime, Drama, International</td>\n",
              "      <td>The devastation is unleashed in the span of se...</td>\n",
              "    </tr>\n",
              "  </tbody>\n",
              "</table>\n",
              "<p>3073 rows × 12 columns</p>\n",
              "</div>\n",
              "      <button class=\"colab-df-convert\" onclick=\"convertToInteractive('df-4c568682-7b45-4134-82d2-9b025b15fd76')\"\n",
              "              title=\"Convert this dataframe to an interactive table.\"\n",
              "              style=\"display:none;\">\n",
              "        \n",
              "  <svg xmlns=\"http://www.w3.org/2000/svg\" height=\"24px\"viewBox=\"0 0 24 24\"\n",
              "       width=\"24px\">\n",
              "    <path d=\"M0 0h24v24H0V0z\" fill=\"none\"/>\n",
              "    <path d=\"M18.56 5.44l.94 2.06.94-2.06 2.06-.94-2.06-.94-.94-2.06-.94 2.06-2.06.94zm-11 1L8.5 8.5l.94-2.06 2.06-.94-2.06-.94L8.5 2.5l-.94 2.06-2.06.94zm10 10l.94 2.06.94-2.06 2.06-.94-2.06-.94-.94-2.06-.94 2.06-2.06.94z\"/><path d=\"M17.41 7.96l-1.37-1.37c-.4-.4-.92-.59-1.43-.59-.52 0-1.04.2-1.43.59L10.3 9.45l-7.72 7.72c-.78.78-.78 2.05 0 2.83L4 21.41c.39.39.9.59 1.41.59.51 0 1.02-.2 1.41-.59l7.78-7.78 2.81-2.81c.8-.78.8-2.07 0-2.86zM5.41 20L4 18.59l7.72-7.72 1.47 1.35L5.41 20z\"/>\n",
              "  </svg>\n",
              "      </button>\n",
              "      \n",
              "  <style>\n",
              "    .colab-df-container {\n",
              "      display:flex;\n",
              "      flex-wrap:wrap;\n",
              "      gap: 12px;\n",
              "    }\n",
              "\n",
              "    .colab-df-convert {\n",
              "      background-color: #E8F0FE;\n",
              "      border: none;\n",
              "      border-radius: 50%;\n",
              "      cursor: pointer;\n",
              "      display: none;\n",
              "      fill: #1967D2;\n",
              "      height: 32px;\n",
              "      padding: 0 0 0 0;\n",
              "      width: 32px;\n",
              "    }\n",
              "\n",
              "    .colab-df-convert:hover {\n",
              "      background-color: #E2EBFA;\n",
              "      box-shadow: 0px 1px 2px rgba(60, 64, 67, 0.3), 0px 1px 3px 1px rgba(60, 64, 67, 0.15);\n",
              "      fill: #174EA6;\n",
              "    }\n",
              "\n",
              "    [theme=dark] .colab-df-convert {\n",
              "      background-color: #3B4455;\n",
              "      fill: #D2E3FC;\n",
              "    }\n",
              "\n",
              "    [theme=dark] .colab-df-convert:hover {\n",
              "      background-color: #434B5C;\n",
              "      box-shadow: 0px 1px 3px 1px rgba(0, 0, 0, 0.15);\n",
              "      filter: drop-shadow(0px 1px 2px rgba(0, 0, 0, 0.3));\n",
              "      fill: #FFFFFF;\n",
              "    }\n",
              "  </style>\n",
              "\n",
              "      <script>\n",
              "        const buttonEl =\n",
              "          document.querySelector('#df-4c568682-7b45-4134-82d2-9b025b15fd76 button.colab-df-convert');\n",
              "        buttonEl.style.display =\n",
              "          google.colab.kernel.accessAllowed ? 'block' : 'none';\n",
              "\n",
              "        async function convertToInteractive(key) {\n",
              "          const element = document.querySelector('#df-4c568682-7b45-4134-82d2-9b025b15fd76');\n",
              "          const dataTable =\n",
              "            await google.colab.kernel.invokeFunction('convertToInteractive',\n",
              "                                                     [key], {});\n",
              "          if (!dataTable) return;\n",
              "\n",
              "          const docLinkHtml = 'Like what you see? Visit the ' +\n",
              "            '<a target=\"_blank\" href=https://colab.research.google.com/notebooks/data_table.ipynb>data table notebook</a>'\n",
              "            + ' to learn more about interactive tables.';\n",
              "          element.innerHTML = '';\n",
              "          dataTable['output_type'] = 'display_data';\n",
              "          await google.colab.output.renderOutput(dataTable, element);\n",
              "          const docLink = document.createElement('div');\n",
              "          docLink.innerHTML = docLinkHtml;\n",
              "          element.appendChild(docLink);\n",
              "        }\n",
              "      </script>\n",
              "    </div>\n",
              "  </div>\n",
              "  "
            ]
          },
          "metadata": {},
          "execution_count": 153
        }
      ]
    },
    {
      "cell_type": "code",
      "source": [
        "netflix_data['date_added'][10]"
      ],
      "metadata": {
        "colab": {
          "base_uri": "https://localhost:8080/"
        },
        "id": "Qv8KSwUjMKwg",
        "outputId": "1a5c0a49-90ef-4b0a-eeff-f18ccdda9bdd"
      },
      "execution_count": null,
      "outputs": [
        {
          "output_type": "execute_result",
          "data": {
            "text/plain": [
              "Timestamp('2021-09-24 00:00:00')"
            ]
          },
          "metadata": {},
          "execution_count": 154
        }
      ]
    },
    {
      "cell_type": "code",
      "source": [
        "netflix_data['date_added'] = pd.to_datetime(netflix_data['date_added'])\n",
        "netflix_data['month_added'] = netflix_data['date_added'].dt.month\n",
        "netflix_data['month_name_added'] = netflix_data['date_added'].dt.month_name()\n",
        "netflix_data['year_added'] = netflix_data['date_added'].dt.year"
      ],
      "metadata": {
        "id": "JW6f3csX_cMT"
      },
      "execution_count": null,
      "outputs": []
    },
    {
      "cell_type": "markdown",
      "source": [
        "visualizing"
      ],
      "metadata": {
        "id": "xRgfWbF3Cank"
      }
    },
    {
      "cell_type": "code",
      "source": [
        "sns.palplot(['#221f1f','#b20710','#e50914','#f5f5f1'])\n",
        "plt.title(\"Netflix Brand pallete\", loc = \"left\",fontfamily=\"serif\",fontsize=15,y=1.2)\n",
        "plt.show()"
      ],
      "metadata": {
        "colab": {
          "base_uri": "https://localhost:8080/",
          "height": 117
        },
        "id": "iy_02FwySAlz",
        "outputId": "73e28971-c63e-4e5d-fe52-91cd4273fc9b"
      },
      "execution_count": null,
      "outputs": [
        {
          "output_type": "display_data",
          "data": {
            "text/plain": [
              "<Figure size 288x72 with 1 Axes>"
            ],
            "image/png": "[encoded data removed]"
          },
          "metadata": {
            "needs_background": "light"
          }
        }
      ]
    },
    {
      "cell_type": "code",
      "source": [
        "from datetime import datetime\n",
        "\n",
        "tl_dates = [\n",
        "    \"1997\\nFounded\",\n",
        "    \"1998\\nMail Service\",\n",
        "    \"2003\\nGoes Public\",\n",
        "    \"2007\\nStreaming service\",\n",
        "    \"2016\\nGoes Global\",\n",
        "    \"2021\\nNetflix & Chill\"\n",
        "]\n",
        "\n",
        "tl_x = [1, 2, 4, 5.3, 8,9]\n",
        "\n",
        "tl_sub_x = [1.5,3,5,6.5,7]\n",
        "\n",
        "\n",
        "tl_sub_times = [\n",
        "    \"1998\",\"2000\",\"2006\",\"2010\",\"2012\"\n",
        "]\n",
        "\n",
        "tl_text = [\n",
        "    \"Netflix.com launched\",\n",
        "    \"Starts\\nPersonal\\nRecommendations\",\"Billionth DVD Delivery\",\"Canadian\\nLaunch\",\"UK Launch\\n(my birthplace)\"]\n",
        "\n",
        "\n",
        "\n",
        "fig, ax = plt.subplots(figsize=(15, 4), constrained_layout=True)\n",
        "ax.set_ylim(-2, 1.75)\n",
        "ax.set_xlim(0, 10)\n",
        "\n",
        "\n",
        "ax.axhline(0, xmin=0.1, xmax=0.9, c='#4a4a4a', zorder=1)\n",
        "\n",
        "\n",
        "ax.scatter(tl_x, np.zeros(len(tl_x)), s=120, c='#4a4a4a', zorder=2)\n",
        "ax.scatter(tl_x, np.zeros(len(tl_x)), s=30, c='#fafafa', zorder=3)\n",
        "ax.scatter(tl_sub_x, np.zeros(len(tl_sub_x)), s=50, c='#4a4a4a',zorder=4)\n",
        "\n",
        "for x, date in zip(tl_x, tl_dates):\n",
        "    ax.text(x, -0.55, date, ha='center', \n",
        "            fontfamily='serif', fontweight='bold',\n",
        "            color='#4a4a4a',fontsize=12)\n",
        "    \n",
        "levels = np.zeros(len(tl_sub_x))    \n",
        "levels[::2] = 0.3\n",
        "levels[1::2] = -0.3\n",
        "markerline, stemline, baseline = ax.stem(tl_sub_x, levels, use_line_collection=True)    \n",
        "plt.setp(baseline, zorder=0)\n",
        "plt.setp(markerline, marker=',', color='#4a4a4a')\n",
        "plt.setp(stemline, color='#4a4a4a')\n",
        "\n",
        "for idx, x, time, txt in zip(range(1, len(tl_sub_x)+1), tl_sub_x, tl_sub_times, tl_text):\n",
        "    ax.text(x, 1.3*(idx%2)-0.5, time, ha='center', \n",
        "            fontfamily='serif', fontweight='bold',\n",
        "            color='#4a4a4a' if idx!=len(tl_sub_x) else '#b20710', fontsize=11)\n",
        "    \n",
        "    ax.text(x, 1.3*(idx%2)-0.6, txt, va='top', ha='center', \n",
        "        fontfamily='serif',color='#4a4a4a' if idx!=len(tl_sub_x) else '#b20710')\n",
        "\n",
        "\n",
        "\n",
        "for spine in [\"left\", \"top\", \"right\", \"bottom\"]:\n",
        "    ax.spines[spine].set_visible(False)\n",
        "\n",
        "ax.set_xticks([]) \n",
        "ax.set_yticks([]) \n",
        "\n",
        "ax.set_title(\"Netflix through the years\", fontweight=\"bold\", fontfamily='serif', fontsize=16, color='#4a4a4a')\n",
        "ax.text(2.4,1.57,\"From DVD rentals to a global audience of over 150m people - is it time for Netflix to Chill?\", fontfamily='serif', fontsize=12, color='#4a4a4a')\n",
        "\n",
        "plt.show()"
      ],
      "metadata": {
        "colab": {
          "base_uri": "https://localhost:8080/",
          "height": 313
        },
        "id": "0VIJR70yVLmQ",
        "outputId": "815155fc-2d7a-42ad-f6d5-9b4435cb2de7"
      },
      "execution_count": null,
      "outputs": [
        {
          "output_type": "display_data",
          "data": {
            "text/plain": [
              "<Figure size 1080x288 with 1 Axes>"
            ],
            "image/png": "[encoded data removed]"
          },
          "metadata": {}
        }
      ]
    },
    {
      "cell_type": "markdown",
      "source": [
        "Group by Content"
      ],
      "metadata": {
        "id": "JLmIF5kObSJH"
      }
    },
    {
      "cell_type": "code",
      "source": [
        "x = netflix_data.groupby(['type'])['type'].count()\n",
        "y = len(netflix_data)\n",
        "r =((x/y)).round(2)\n",
        "mf_ratio = pd.DataFrame(r).T"
      ],
      "metadata": {
        "id": "ymMDr5bOUt2T"
      },
      "execution_count": null,
      "outputs": []
    },
    {
      "cell_type": "code",
      "source": [
        "fig, ax = plt.subplots(1,1,figsize=(6.5, 2.5))\n",
        "ax.barh(mf_ratio.index, mf_ratio['Movie'], \n",
        "        color='#b20710', alpha=0.9, label='Male')\n",
        "ax.barh(mf_ratio.index, mf_ratio['TV Show'], left=mf_ratio['Movie'], \n",
        "        color='#221f1f', alpha=0.9, label='Female')\n",
        "\n",
        "ax.set_xlim(0, 1)\n",
        "ax.set_xticks([])\n",
        "ax.set_yticks([])\n",
        "\n",
        "\n",
        "for i in mf_ratio.index:\n",
        "    ax.annotate(f\"{int(mf_ratio['Movie'][i]*100)}%\", \n",
        "                   xy=(mf_ratio['Movie'][i]/2, i),\n",
        "                   va = 'center', ha='center',fontsize=40, fontweight='light', fontfamily='serif',\n",
        "                   color='white')\n",
        "\n",
        "    ax.annotate(\"Movie\", \n",
        "                   xy=(mf_ratio['Movie'][i]/2, -0.25),\n",
        "                   va = 'center', ha='center',fontsize=15, fontweight='light', fontfamily='serif',\n",
        "                   color='white')\n",
        "    \n",
        "    \n",
        "for i in mf_ratio.index:\n",
        "    ax.annotate(f\"{int(mf_ratio['TV Show'][i]*100)}%\", \n",
        "                   xy=(mf_ratio['Movie'][i]+mf_ratio['TV Show'][i]/2, i),\n",
        "                   va = 'center', ha='center',fontsize=40, fontweight='light', fontfamily='serif',\n",
        "                   color='white')\n",
        "    ax.annotate(\"TV Show\", \n",
        "                   xy=(mf_ratio['Movie'][i]+mf_ratio['TV Show'][i]/2, -0.25),\n",
        "                   va = 'center', ha='center',fontsize=15, fontweight='light', fontfamily='serif',\n",
        "                   color='white')\n",
        "\n",
        "\n",
        "\n",
        "\n",
        "\n",
        "\n",
        "fig.text(0.125,1.03,'Movie & TV Show distribution', fontfamily='serif',fontsize=15, fontweight='bold')\n",
        "fig.text(0.125,0.92,'We see vastly more movies than TV shows on Netflix.',fontfamily='serif',fontsize=12)  \n",
        "\n",
        "for s in ['top', 'left', 'right', 'bottom']:\n",
        "    ax.spines[s].set_visible(False)\n",
        "ax.legend().set_visible(False)\n",
        "plt.show()"
      ],
      "metadata": {
        "colab": {
          "base_uri": "https://localhost:8080/",
          "height": 205
        },
        "id": "gJupe189blkE",
        "outputId": "c7a6d2ea-c0ce-4aea-c860-d9d0e2b1f987"
      },
      "execution_count": null,
      "outputs": [
        {
          "output_type": "display_data",
          "data": {
            "text/plain": [
              "<Figure size 468x180 with 1 Axes>"
            ],
            "image/png": "[encoded data removed]"
          },
          "metadata": {}
        }
      ]
    },
    {
      "cell_type": "code",
      "source": [
        "netflix_data['count'] = 1\n",
        "netflix_data['first_country'] = netflix_data['country'].apply(lambda x:x.split(\",\")[0])\n",
        "netflix_data['first_country'].head()"
      ],
      "metadata": {
        "colab": {
          "base_uri": "https://localhost:8080/"
        },
        "id": "oHKKC51cjfaA",
        "outputId": "b14ff559-d0ba-46ca-c366-6945ef10a14e"
      },
      "execution_count": null,
      "outputs": [
        {
          "output_type": "execute_result",
          "data": {
            "text/plain": [
              "0    United States\n",
              "1     South Africa\n",
              "2    United States\n",
              "3    United States\n",
              "4            India\n",
              "Name: first_country, dtype: object"
            ]
          },
          "metadata": {},
          "execution_count": 160
        }
      ]
    },
    {
      "cell_type": "code",
      "source": [
        "ratings_ages = {\n",
        "    'TV-PG': 'Older Kids',\n",
        "    'TV-MA': 'Adults',\n",
        "    'TV-Y7-FV': 'Older Kids',\n",
        "    'TV-Y7': 'Older Kids',\n",
        "    'TV-14': 'Teens',\n",
        "    'R': 'Adults',\n",
        "    'TV-Y': 'Kids',\n",
        "    'NR': 'Adults',\n",
        "    'PG-13': 'Teens',\n",
        "    'TV-G': 'Kids',\n",
        "    'PG': 'Older Kids',\n",
        "    'G': 'Kids',\n",
        "    'UR': 'Adults',\n",
        "    'NC-17': 'Adults'\n",
        "}\n",
        "netflix_data['target_ages'] = netflix_data['rating'].replace(ratings_ages)"
      ],
      "metadata": {
        "id": "lhBK7sdDk1-w"
      },
      "execution_count": null,
      "outputs": []
    },
    {
      "cell_type": "code",
      "source": [
        "netflix_data['target_ages']"
      ],
      "metadata": {
        "colab": {
          "base_uri": "https://localhost:8080/"
        },
        "id": "e280ch1bmP6H",
        "outputId": "952563fe-1756-49a7-b81b-71ddbd366088"
      },
      "execution_count": null,
      "outputs": [
        {
          "output_type": "execute_result",
          "data": {
            "text/plain": [
              "0            Teens\n",
              "1           Adults\n",
              "2           Adults\n",
              "3           Adults\n",
              "4           Adults\n",
              "           ...    \n",
              "8802        Adults\n",
              "8803    Older Kids\n",
              "8804        Adults\n",
              "8805    Older Kids\n",
              "8806         Teens\n",
              "Name: target_ages, Length: 8790, dtype: object"
            ]
          },
          "metadata": {},
          "execution_count": 162
        }
      ]
    },
    {
      "cell_type": "code",
      "source": [
        "netflix_data['first_country'].replace('United States','USA',inplace = True)\n",
        "netflix_data['first_country'].replace('United Kingdom','UK',inplace = True)\n",
        "netflix_data['first_country'].replace('South Korea','S.Korea',inplace = True)"
      ],
      "metadata": {
        "id": "0DjFnTG1maMw"
      },
      "execution_count": null,
      "outputs": []
    },
    {
      "cell_type": "code",
      "source": [
        "data = netflix_data.groupby('first_country')['count'].sum().sort_values(ascending=False)[:10]\n",
        "color_map = ['#f5f5f1' for _ in range(10)]\n",
        "color_map[0] = color_map[1] = color_map[2] = \"#b20710\"\n",
        "fig, ax = plt.subplots(1,1,figsize=(12,6))\n",
        "ax.bar(data.index,data,width=0.5,edgecolor=\"darkgray\",linewidth=0.6,color=color_map)\n",
        "for i in data.index:\n",
        "  ax.annotate(f\"{data[i]}\",\n",
        "              xy=(i,data[i]+150),\n",
        "              va = \"center\",ha=\"center\",fontweight=\"light\",fontfamily=\"serif\")\n",
        "  \n",
        "for s in ['top','left','right']:\n",
        "  ax.spines[s].set_visible(False)\n",
        "\n",
        "ax.set_xticklabels(data.index, fontfamily = 'serif', rotation=0)\n",
        "fig.text(0.09,1,'Top 10 countries on Netflix',fontsize = 15, fontweight = \"bold\",fontfamily=\"serif\")\n",
        "fig.text(0.09,0.95,\"The three most frequent countries have been highlited.\")\n",
        "grid_y_ticks = np.arange(0,4000,500)\n",
        "ax.set_yticks(grid_y_ticks)\n",
        "ax.set_axisbelow(True)\n",
        "plt.axhline(y=0,color=\"black\",linewidth=1.3,alpha=0.7)\n",
        "ax.tick_params(axis=\"both\",which=\"major\",labelsize=12)\n",
        "import matplotlib.lines as lines \n",
        "l1 = lines.Line2D([1,1],[0,1],transform=fig.transFigure,figure=fig,color='black',lw=0.2)\n",
        "fig.lines.extend([l1])\n",
        "plt.show()"
      ],
      "metadata": {
        "colab": {
          "base_uri": "https://localhost:8080/",
          "height": 474
        },
        "id": "99TW_SH9pVIp",
        "outputId": "313bd21d-bfb0-4f51-d567-4d0ad330e7d8"
      },
      "execution_count": null,
      "outputs": [
        {
          "output_type": "display_data",
          "data": {
            "text/plain": [
              "<Figure size 864x432 with 1 Axes>"
            ],
            "image/png": "[encoded data removed]"
          },
          "metadata": {
            "needs_background": "light"
          }
        }
      ]
    },
    {
      "cell_type": "code",
      "source": [
        "country_order = netflix_data['first_country'].value_counts()[:11].index\n",
        "data_q2q3 = netflix_data[['type', 'first_country']].groupby('first_country')['type'].value_counts().unstack().loc[country_order]\n",
        "data_q2q3['sum'] = data_q2q3.sum(axis=1)\n",
        "data_q2q3_ratio = (data_q2q3.T / data_q2q3['sum']).T[['Movie', 'TV Show']].sort_values(by='Movie',ascending=False)[::-1]\n",
        "fig, ax = plt.subplots(1,1,figsize=(15, 8),)\n",
        "\n",
        "ax.barh(data_q2q3_ratio.index, data_q2q3_ratio['Movie'], \n",
        "        color='#b20710', alpha=0.8, label='Movie')\n",
        "ax.barh(data_q2q3_ratio.index, data_q2q3_ratio['TV Show'], left=data_q2q3_ratio['Movie'], \n",
        "        color='#221f1f', alpha=0.8, label='TV Show')\n",
        "\n",
        "\n",
        "ax.set_xlim(0, 1)\n",
        "ax.set_xticks([])\n",
        "ax.set_yticklabels(data_q2q3_ratio.index, fontfamily='serif', fontsize=11)\n",
        "\n",
        "# male percentage\n",
        "for i in data_q2q3_ratio.index:\n",
        "    ax.annotate(f\"{data_q2q3_ratio['Movie'][i]*100:.3}%\", \n",
        "                   xy=(data_q2q3_ratio['Movie'][i]/2, i),\n",
        "                   va = 'center', ha='center',fontsize=12, fontweight='light', fontfamily='serif',\n",
        "                   color='white')\n",
        "\n",
        "for i in data_q2q3_ratio.index:\n",
        "    ax.annotate(f\"{data_q2q3_ratio['TV Show'][i]*100:.3}%\", \n",
        "                   xy=(data_q2q3_ratio['Movie'][i]+data_q2q3_ratio['TV Show'][i]/2, i),\n",
        "                   va = 'center', ha='center',fontsize=12, fontweight='light', fontfamily='serif',\n",
        "                   color='white')\n",
        "    \n",
        "\n",
        "fig.text(0.13, 0.93, 'Top 10 countries Movie & TV Show split', fontsize=15, fontweight='bold', fontfamily='serif')   \n",
        "fig.text(0.131, 0.89, 'Percent Stacked Bar Chart', fontsize=12,fontfamily='serif')   \n",
        "\n",
        "for s in ['top', 'left', 'right', 'bottom']:\n",
        "    ax.spines[s].set_visible(False)\n",
        "    \n",
        "\n",
        "fig.text(0.75,0.9,\"Movie\", fontweight=\"bold\", fontfamily='serif', fontsize=15, color='#b20710')\n",
        "fig.text(0.81,0.9,\"|\", fontweight=\"bold\", fontfamily='serif', fontsize=15, color='black')\n",
        "fig.text(0.82,0.9,\"TV Show\", fontweight=\"bold\", fontfamily='serif', fontsize=15, color='#221f1f')\n",
        "\n",
        "\n",
        "\n",
        "\n",
        "\n",
        "import matplotlib.lines as lines\n",
        "l1 = lines.Line2D([1, 1], [0, 1], transform=fig.transFigure, figure=fig,color='black',lw=0.2)\n",
        "fig.lines.extend([l1])\n",
        "\n",
        "\n",
        "\n",
        "\n",
        "ax.tick_params(axis='both', which='major', labelsize=12)\n",
        "ax.tick_params(axis=u'both', which=u'both',length=0)\n",
        "\n",
        "plt.show()"
      ],
      "metadata": {
        "id": "L-ZuGnY0EouF",
        "colab": {
          "base_uri": "https://localhost:8080/",
          "height": 607
        },
        "outputId": "2aa43549-f278-480d-fc1f-61bfb2e9389c"
      },
      "execution_count": null,
      "outputs": [
        {
          "output_type": "display_data",
          "data": {
            "text/plain": [
              "<Figure size 1080x576 with 1 Axes>"
            ],
            "image/png": "[encoded data removed]"
          },
          "metadata": {
            "needs_background": "light"
          }
        }
      ]
    },
    {
      "cell_type": "code",
      "source": [
        "order = pd.DataFrame(netflix_data.groupby('rating')['count'].sum().sort_values(ascending=False).reset_index())\n",
        "rating_order = list(order['rating'])"
      ],
      "metadata": {
        "id": "hk6MpzIv8hsN"
      },
      "execution_count": null,
      "outputs": []
    },
    {
      "cell_type": "code",
      "source": [
        "fig, ax = plt.subplots(1, 1, figsize=(12, 6))\n",
        "color = [\"#b20710\", \"#221f1f\"]\n",
        "\n",
        "for i, mtv in enumerate(netflix_data['type'].value_counts().index):\n",
        "    mtv_rel = netflix_data[netflix_data['type']==mtv]['year_added'].value_counts().sort_index()\n",
        "    ax.plot(mtv_rel.index, mtv_rel, color=color[i], label=mtv)\n",
        "    ax.fill_between(mtv_rel.index, 0, mtv_rel, color=color[i], alpha=0.9)\n",
        "    \n",
        "ax.yaxis.tick_right()\n",
        "    \n",
        "ax.axhline(y = 0, color = 'black', linewidth = 1.3, alpha = .7)\n",
        "\n",
        "#ax.set_ylim(0, 50)\n",
        "#ax.legend(loc='upper left')\n",
        "for s in ['top', 'right','bottom','left']:\n",
        "    ax.spines[s].set_visible(False)\n",
        "\n",
        "ax.grid(False)\n",
        "\n",
        "ax.set_xlim(2008,2020)\n",
        "plt.xticks(np.arange(2008, 2021, 1))\n",
        "\n",
        "\n",
        "fig.text(0.13,0.2,\"Movie\", fontweight=\"bold\", fontfamily='serif', fontsize=15, color='#b20710')\n",
        "fig.text(0.19,0.2,\"|\", fontweight=\"bold\", fontfamily='serif', fontsize=15, color='black')\n",
        "fig.text(0.2,0.2,\"TV Show\", fontweight=\"bold\", fontfamily='serif', fontsize=15, color='#221f1f')\n",
        "\n",
        "ax.tick_params(axis=u'both', which=u'both',length=0)\n",
        "\n",
        "plt.show()"
      ],
      "metadata": {
        "colab": {
          "base_uri": "https://localhost:8080/",
          "height": 371
        },
        "id": "BEx45siE_3qV",
        "outputId": "a7a07295-2521-4479-b8dd-2fcfddac9390"
      },
      "execution_count": null,
      "outputs": [
        {
          "output_type": "display_data",
          "data": {
            "text/plain": [
              "<Figure size 864x432 with 1 Axes>"
            ],
            "image/png": "[encoded data removed]"
          },
          "metadata": {
            "needs_background": "light"
          }
        }
      ]
    },
    {
      "cell_type": "markdown",
      "source": [
        "MOVIE GENRES\n"
      ],
      "metadata": {
        "id": "Cb74pq_iJ2NN"
      }
    },
    {
      "cell_type": "code",
      "source": [
        "from sklearn.preprocessing import MultiLabelBinarizer\n",
        "import matplotlib.colors\n",
        "cmap = matplotlib.colors.LinearSegmentedColormap\n"
      ],
      "metadata": {
        "id": "jTaKJIC4J1HM"
      },
      "execution_count": null,
      "outputs": []
    },
    {
      "cell_type": "code",
      "source": [
        "# Genres\n",
        "from sklearn.preprocessing import MultiLabelBinarizer \n",
        "\n",
        "import matplotlib.colors\n",
        "cmap = matplotlib.colors.LinearSegmentedColormap.from_list(\"\", ['#221f1f', '#b20710','#f5f5f1'])\n",
        "def genre_heatmap(df, title):\n",
        "    df['genre'] = df['listed_in'].apply(lambda x :  x.replace(' ,',',').replace(', ',',').split(',')) \n",
        "    Types = []\n",
        "    for i in df['genre']: Types += i\n",
        "    Types = set(Types)\n",
        "    print(\"There are {} types in the Netflix {} Dataset\".format(len(Types),title))    \n",
        "    test = df['genre']\n",
        "    mlb = MultiLabelBinarizer()\n",
        "    res = pd.DataFrame(mlb.fit_transform(test), columns=mlb.classes_, index=test.index)\n",
        "    corr = res.corr()\n",
        "    mask = np.zeros_like(corr, dtype=np.bool)\n",
        "    mask[np.triu_indices_from(mask)] = True\n",
        "    fig, ax = plt.subplots(figsize=(10, 7))\n",
        "    fig.text(.54,.88,'Genre correlation', fontfamily='serif',fontweight='bold',fontsize=15)\n",
        "    fig.text(.75,.665,\n",
        "            '''\n",
        "             It is interesting that Independant Movies\n",
        "             tend to be Dramas. \n",
        "             \n",
        "             Another observation is that \n",
        "             Internatinal Movies are rarely\n",
        "             in the Children's genre.\n",
        "             ''', fontfamily='serif',fontsize=12,ha='right')\n",
        "    pl = sns.heatmap(corr, mask=mask, cmap=cmap, vmax=.3, vmin=-.3, center=0, square=True, linewidths=2.5)\n",
        "    plt.show()"
      ],
      "metadata": {
        "id": "MT-no1m4bvFg"
      },
      "execution_count": null,
      "outputs": []
    },
    {
      "cell_type": "code",
      "source": [
        "us_ind = netflix_data[(netflix_data['first_country'] == 'USA') | (netflix_data['first_country'] == 'India' )]\n",
        "data_sub = netflix_data.groupby('first_country')['year_added'].value_counts().unstack().fillna(0).loc[['USA','India']].cumsum(axis=0).T\n",
        "\n"
      ],
      "metadata": {
        "id": "XvQVFU9bxSGV"
      },
      "execution_count": null,
      "outputs": []
    },
    {
      "cell_type": "code",
      "source": [
        "fig, ax = plt.subplots(1, 1, figsize=(12, 6))\n",
        "color = ['#221f1f', '#b20710','#f5f5f1']\n",
        "\n",
        "for i, hs in enumerate(us_ind['first_country'].value_counts().index):\n",
        "    hs_built = us_ind[us_ind['first_country']==hs]['year_added'].value_counts().sort_index()\n",
        "    ax.plot(hs_built.index, hs_built, color=color[i], label=hs)\n",
        "    ax.fill_between(hs_built.index, 0, hs_built, color=color[i], label=hs)\n",
        "    \n",
        "\n",
        "ax.set_ylim(0, 1000)\n",
        "for s in ['top', 'right']:\n",
        "    ax.spines[s].set_visible(False)\n",
        "\n",
        "ax.yaxis.tick_right()\n",
        "ax.axhline(y = 0, color = 'black', linewidth = 1.3, alpha = .4)\n",
        "\n",
        "for s in ['top', 'right','bottom','left']:\n",
        "    ax.spines[s].set_visible(False)\n",
        "\n",
        "ax.grid(False)\n",
        "ax.set_xticklabels(data_sub.index, fontfamily='serif', rotation=0)\n",
        "ax.margins(x=0) # remove white spaces next to margins\n",
        "\n",
        "ax.set_xlim(2008,2020)\n",
        "plt.xticks(np.arange(2008, 2021, 1))\n",
        "fig.text(0.13,0.15,\"India\", fontweight=\"bold\", fontfamily='serif', fontsize=15, color='#b20710')\n",
        "fig.text(0.188,0.15,\"|\", fontweight=\"bold\", fontfamily='serif', fontsize=15, color='black')\n",
        "fig.text(0.198,0.15,\"USA\", fontweight=\"bold\", fontfamily='serif', fontsize=15, color='#221f1f')\n",
        "ax.tick_params(axis=u'both', which=u'both',length=0)\n",
        "plt.show()"
      ],
      "metadata": {
        "colab": {
          "base_uri": "https://localhost:8080/",
          "height": 374
        },
        "id": "ip6cr5gOnXnK",
        "outputId": "819fad1a-a397-4c30-fc48-9b6b1361c529"
      },
      "execution_count": null,
      "outputs": [
        {
          "output_type": "display_data",
          "data": {
            "text/plain": [
              "<Figure size 864x432 with 1 Axes>"
            ],
            "image/png": "[encoded data removed]"
          },
          "metadata": {
            "needs_background": "light"
          }
        }
      ]
    },
    {
      "cell_type": "code",
      "source": [
        "data_sub"
      ],
      "metadata": {
        "colab": {
          "base_uri": "https://localhost:8080/",
          "height": 520
        },
        "id": "a-9ciNfPwTgG",
        "outputId": "f5276be2-7f72-42ce-830e-438241bf4b81"
      },
      "execution_count": null,
      "outputs": [
        {
          "output_type": "execute_result",
          "data": {
            "text/plain": [
              "first_country    USA   India\n",
              "year_added                  \n",
              "2008             2.0     2.0\n",
              "2009             1.0     1.0\n",
              "2010             1.0     1.0\n",
              "2011            12.0    12.0\n",
              "2012             3.0     3.0\n",
              "2013            10.0    10.0\n",
              "2014            19.0    19.0\n",
              "2015            57.0    57.0\n",
              "2016           196.0   207.0\n",
              "2017           467.0   620.0\n",
              "2018           621.0   960.0\n",
              "2019           926.0  1138.0\n",
              "2020           818.0  1011.0\n",
              "2021           898.0   998.0"
            ],
            "text/html": [
              "\n",
              "  <div id=\"df-9f391d29-7602-4535-97bc-2a1aa64190b5\">\n",
              "    <div class=\"colab-df-container\">\n",
              "      <div>\n",
              "<style scoped>\n",
              "    .dataframe tbody tr th:only-of-type {\n",
              "        vertical-align: middle;\n",
              "    }\n",
              "\n",
              "    .dataframe tbody tr th {\n",
              "        vertical-align: top;\n",
              "    }\n",
              "\n",
              "    .dataframe thead th {\n",
              "        text-align: right;\n",
              "    }\n",
              "</style>\n",
              "<table border=\"1\" class=\"dataframe\">\n",
              "  <thead>\n",
              "    <tr style=\"text-align: right;\">\n",
              "      <th>first_country</th>\n",
              "      <th>USA</th>\n",
              "      <th>India</th>\n",
              "    </tr>\n",
              "    <tr>\n",
              "      <th>year_added</th>\n",
              "      <th></th>\n",
              "      <th></th>\n",
              "    </tr>\n",
              "  </thead>\n",
              "  <tbody>\n",
              "    <tr>\n",
              "      <th>2008</th>\n",
              "      <td>2.0</td>\n",
              "      <td>2.0</td>\n",
              "    </tr>\n",
              "    <tr>\n",
              "      <th>2009</th>\n",
              "      <td>1.0</td>\n",
              "      <td>1.0</td>\n",
              "    </tr>\n",
              "    <tr>\n",
              "      <th>2010</th>\n",
              "      <td>1.0</td>\n",
              "      <td>1.0</td>\n",
              "    </tr>\n",
              "    <tr>\n",
              "      <th>2011</th>\n",
              "      <td>12.0</td>\n",
              "      <td>12.0</td>\n",
              "    </tr>\n",
              "    <tr>\n",
              "      <th>2012</th>\n",
              "      <td>3.0</td>\n",
              "      <td>3.0</td>\n",
              "    </tr>\n",
              "    <tr>\n",
              "      <th>2013</th>\n",
              "      <td>10.0</td>\n",
              "      <td>10.0</td>\n",
              "    </tr>\n",
              "    <tr>\n",
              "      <th>2014</th>\n",
              "      <td>19.0</td>\n",
              "      <td>19.0</td>\n",
              "    </tr>\n",
              "    <tr>\n",
              "      <th>2015</th>\n",
              "      <td>57.0</td>\n",
              "      <td>57.0</td>\n",
              "    </tr>\n",
              "    <tr>\n",
              "      <th>2016</th>\n",
              "      <td>196.0</td>\n",
              "      <td>207.0</td>\n",
              "    </tr>\n",
              "    <tr>\n",
              "      <th>2017</th>\n",
              "      <td>467.0</td>\n",
              "      <td>620.0</td>\n",
              "    </tr>\n",
              "    <tr>\n",
              "      <th>2018</th>\n",
              "      <td>621.0</td>\n",
              "      <td>960.0</td>\n",
              "    </tr>\n",
              "    <tr>\n",
              "      <th>2019</th>\n",
              "      <td>926.0</td>\n",
              "      <td>1138.0</td>\n",
              "    </tr>\n",
              "    <tr>\n",
              "      <th>2020</th>\n",
              "      <td>818.0</td>\n",
              "      <td>1011.0</td>\n",
              "    </tr>\n",
              "    <tr>\n",
              "      <th>2021</th>\n",
              "      <td>898.0</td>\n",
              "      <td>998.0</td>\n",
              "    </tr>\n",
              "  </tbody>\n",
              "</table>\n",
              "</div>\n",
              "      <button class=\"colab-df-convert\" onclick=\"convertToInteractive('df-9f391d29-7602-4535-97bc-2a1aa64190b5')\"\n",
              "              title=\"Convert this dataframe to an interactive table.\"\n",
              "              style=\"display:none;\">\n",
              "        \n",
              "  <svg xmlns=\"http://www.w3.org/2000/svg\" height=\"24px\"viewBox=\"0 0 24 24\"\n",
              "       width=\"24px\">\n",
              "    <path d=\"M0 0h24v24H0V0z\" fill=\"none\"/>\n",
              "    <path d=\"M18.56 5.44l.94 2.06.94-2.06 2.06-.94-2.06-.94-.94-2.06-.94 2.06-2.06.94zm-11 1L8.5 8.5l.94-2.06 2.06-.94-2.06-.94L8.5 2.5l-.94 2.06-2.06.94zm10 10l.94 2.06.94-2.06 2.06-.94-2.06-.94-.94-2.06-.94 2.06-2.06.94z\"/><path d=\"M17.41 7.96l-1.37-1.37c-.4-.4-.92-.59-1.43-.59-.52 0-1.04.2-1.43.59L10.3 9.45l-7.72 7.72c-.78.78-.78 2.05 0 2.83L4 21.41c.39.39.9.59 1.41.59.51 0 1.02-.2 1.41-.59l7.78-7.78 2.81-2.81c.8-.78.8-2.07 0-2.86zM5.41 20L4 18.59l7.72-7.72 1.47 1.35L5.41 20z\"/>\n",
              "  </svg>\n",
              "      </button>\n",
              "      \n",
              "  <style>\n",
              "    .colab-df-container {\n",
              "      display:flex;\n",
              "      flex-wrap:wrap;\n",
              "      gap: 12px;\n",
              "    }\n",
              "\n",
              "    .colab-df-convert {\n",
              "      background-color: #E8F0FE;\n",
              "      border: none;\n",
              "      border-radius: 50%;\n",
              "      cursor: pointer;\n",
              "      display: none;\n",
              "      fill: #1967D2;\n",
              "      height: 32px;\n",
              "      padding: 0 0 0 0;\n",
              "      width: 32px;\n",
              "    }\n",
              "\n",
              "    .colab-df-convert:hover {\n",
              "      background-color: #E2EBFA;\n",
              "      box-shadow: 0px 1px 2px rgba(60, 64, 67, 0.3), 0px 1px 3px 1px rgba(60, 64, 67, 0.15);\n",
              "      fill: #174EA6;\n",
              "    }\n",
              "\n",
              "    [theme=dark] .colab-df-convert {\n",
              "      background-color: #3B4455;\n",
              "      fill: #D2E3FC;\n",
              "    }\n",
              "\n",
              "    [theme=dark] .colab-df-convert:hover {\n",
              "      background-color: #434B5C;\n",
              "      box-shadow: 0px 1px 3px 1px rgba(0, 0, 0, 0.15);\n",
              "      filter: drop-shadow(0px 1px 2px rgba(0, 0, 0, 0.3));\n",
              "      fill: #FFFFFF;\n",
              "    }\n",
              "  </style>\n",
              "\n",
              "      <script>\n",
              "        const buttonEl =\n",
              "          document.querySelector('#df-9f391d29-7602-4535-97bc-2a1aa64190b5 button.colab-df-convert');\n",
              "        buttonEl.style.display =\n",
              "          google.colab.kernel.accessAllowed ? 'block' : 'none';\n",
              "\n",
              "        async function convertToInteractive(key) {\n",
              "          const element = document.querySelector('#df-9f391d29-7602-4535-97bc-2a1aa64190b5');\n",
              "          const dataTable =\n",
              "            await google.colab.kernel.invokeFunction('convertToInteractive',\n",
              "                                                     [key], {});\n",
              "          if (!dataTable) return;\n",
              "\n",
              "          const docLinkHtml = 'Like what you see? Visit the ' +\n",
              "            '<a target=\"_blank\" href=https://colab.research.google.com/notebooks/data_table.ipynb>data table notebook</a>'\n",
              "            + ' to learn more about interactive tables.';\n",
              "          element.innerHTML = '';\n",
              "          dataTable['output_type'] = 'display_data';\n",
              "          await google.colab.output.renderOutput(dataTable, element);\n",
              "          const docLink = document.createElement('div');\n",
              "          docLink.innerHTML = docLinkHtml;\n",
              "          element.appendChild(docLink);\n",
              "        }\n",
              "      </script>\n",
              "    </div>\n",
              "  </div>\n",
              "  "
            ]
          },
          "metadata": {},
          "execution_count": 172
        }
      ]
    },
    {
      "cell_type": "code",
      "source": [
        "from wordcloud import WordCloud\n",
        "import random\n",
        "from PIL import Image\n",
        "import matplotlib\n",
        "\n",
        "# Custom colour map based on Netflix palette\n",
        "cmap = matplotlib.colors.LinearSegmentedColormap.from_list(\"\", ['#221f1f', '#b20710'])\n",
        "\n",
        "text = str(list(netflix_data['title'])).replace(',', '').replace('[', '').replace(\"'\", '').replace(']', '').replace('.', '')\n",
        "\n",
        "mask = np.array(Image.open('/content/drive/MyDrive/Datasets-Streaming/netflix_data/7-79068_netflix-n-logo-transparent-hd-png-download.png'))\n",
        "\n",
        "wordcloud = WordCloud(background_color = 'white', width = 500,  height = 200,colormap=cmap, max_words = 150, mask = mask).generate(text)\n",
        "\n",
        "plt.figure( figsize=(5,5))\n",
        "plt.imshow(wordcloud, interpolation = 'bilinear')\n",
        "plt.axis('off')\n",
        "plt.tight_layout(pad=0)\n",
        "plt.show()"
      ],
      "metadata": {
        "colab": {
          "base_uri": "https://localhost:8080/",
          "height": 391
        },
        "id": "N-0QWr9CqZ-K",
        "outputId": "306d4409-b10a-4cac-99c4-929344e3d204"
      },
      "execution_count": null,
      "outputs": [
        {
          "output_type": "display_data",
          "data": {
            "text/plain": [
              "<Figure size 360x360 with 1 Axes>"
            ],
            "image/png": "[encoded data removed]"
          },
          "metadata": {
            "needs_background": "light"
          }
        }
      ]
    },
    {
      "cell_type": "code",
      "source": [
        "from sklearn.feature_extraction.text import TfidfVectorizer\n",
        "#removing stopwords\n",
        "tfidf = TfidfVectorizer(stop_words='english')\n",
        "\n",
        "#Replace NaN with an empty string\n",
        "netflix_data['description'] = netflix_data['description'].fillna('')\n",
        "\n",
        "#Construct the required TF-IDF matrix by fitting and transforming the data\n",
        "tfidf_matrix = tfidf.fit_transform(netflix_data['description'])\n",
        "tfidfg_matrix = tfidf.fit_transform(netflix_data['listed_in'])\n",
        "\n",
        "#Output the shape of tfidf_matrix\n",
        "tfidf_matrix.shape,tfidfg_matrix.shape\n"
      ],
      "metadata": {
        "colab": {
          "base_uri": "https://localhost:8080/"
        },
        "id": "rBkEheoJsk5r",
        "outputId": "d13f0d50-30be-44bf-a220-0c1d279ff758"
      },
      "execution_count": null,
      "outputs": [
        {
          "output_type": "execute_result",
          "data": {
            "text/plain": [
              "((8790, 18878), (8790, 44))"
            ]
          },
          "metadata": {},
          "execution_count": 174
        }
      ]
    },
    {
      "cell_type": "code",
      "source": [
        "# Import linear_kernel\n",
        "from sklearn.metrics.pairwise import linear_kernel\n",
        "\n",
        "# Compute the cosine similarity matrix\n",
        "cosine_sim = linear_kernel(tfidf_matrix, tfidf_matrix)\n",
        "indices = pd.Series(netflix_data.index, index=netflix_data['title']).drop_duplicates()\n",
        "\n"
      ],
      "metadata": {
        "id": "Qnf1HWXMt97M"
      },
      "execution_count": null,
      "outputs": []
    },
    {
      "cell_type": "code",
      "source": [
        ""
      ],
      "metadata": {
        "colab": {
          "base_uri": "https://localhost:8080/"
        },
        "id": "S8tknFwfa4X0",
        "outputId": "e38ce808-b72e-4b92-d1a6-969aab351867"
      },
      "execution_count": null,
      "outputs": [
        {
          "output_type": "execute_result",
          "data": {
            "text/plain": [
              "title\n",
              "dick johnson is dead        0\n",
              "blood & water               1\n",
              "ganglands                   2\n",
              "jailbirds new orleans       3\n",
              "kota factory                4\n",
              "                         ... \n",
              "zodiac                   8802\n",
              "zombie dumb              8803\n",
              "zombieland               8804\n",
              "zoom                     8805\n",
              "zubaan                   8806\n",
              "Length: 8790, dtype: int64"
            ]
          },
          "metadata": {},
          "execution_count": 179
        }
      ]
    },
    {
      "cell_type": "code",
      "source": [
        "indices[\"zombieland\"]"
      ],
      "metadata": {
        "colab": {
          "base_uri": "https://localhost:8080/"
        },
        "id": "TnEFlMAebFz8",
        "outputId": "5441ec38-c2dc-40d4-ba72-88555fff1491"
      },
      "execution_count": null,
      "outputs": [
        {
          "output_type": "execute_result",
          "data": {
            "text/plain": [
              "8804"
            ]
          },
          "metadata": {},
          "execution_count": 183
        }
      ]
    },
    {
      "cell_type": "code",
      "source": [
        ""
      ],
      "metadata": {
        "colab": {
          "base_uri": "https://localhost:8080/"
        },
        "id": "nwlVDlqEiIdA",
        "outputId": "dc437c30-9e3b-4846-b1f2-39774d91b814"
      },
      "execution_count": null,
      "outputs": [
        {
          "output_type": "execute_result",
          "data": {
            "text/plain": [
              "array([0.        , 0.        , 0.        , ..., 0.        , 0.01637208,\n",
              "       0.        ])"
            ]
          },
          "metadata": {},
          "execution_count": 201
        }
      ]
    },
    {
      "cell_type": "code",
      "source": [
        "def get_recommendations_desc(title, cosine_sim=cosine_sim):\n",
        "    idx = indices[title]\n",
        "\n",
        "    # Get the pairwsie similarity scores of all movies with that movie\n",
        "    sim_scores = list(enumerate(cosine_sim[idx]))\n",
        "\n",
        "    # Sort the movies based on the similarity scores\n",
        "    sim_scores = sorted(sim_scores, key=lambda x: x[1], reverse=True)\n",
        "\n",
        "    # Get the scores of the 10 most similar movies\n",
        "    sim_scores = sim_scores[1:11]\n",
        "    # Get the movie indices\n",
        "    movie_indices = [i[0] for i in sim_scores]\n",
        "\n",
        "    # Return the top 10 most similar movies\n",
        "    return netflix_data['title'].iloc[movie_indices]"
      ],
      "metadata": {
        "id": "yPzGeOYHuI0j"
      },
      "execution_count": null,
      "outputs": []
    },
    {
      "cell_type": "code",
      "source": [
        "get_recommendations_desc('kota factory',cosine_sim)"
      ],
      "metadata": {
        "colab": {
          "base_uri": "https://localhost:8080/"
        },
        "id": "Vv6er7_6uQar",
        "outputId": "dc8dc62e-91c8-48e1-fefa-b27817c78a15"
      },
      "execution_count": null,
      "outputs": [
        {
          "output_type": "stream",
          "name": "stdout",
          "text": [
            "[(2272, 0.1299528781598593), (266, 0.1255474400378485), (2091, 0.12364271471216452), (4076, 0.12294050646430864), (805, 0.11913807227436055), (2690, 0.11781817620426634), (1727, 0.11733596954009202), (8215, 0.11609285112242707), (8595, 0.11171408758610198), (2362, 0.11100518774969191)]\n"
          ]
        },
        {
          "output_type": "execute_result",
          "data": {
            "text/plain": [
              "2272                     drishyam\n",
              "266          the creative indians\n",
              "2091             the bridge curse\n",
              "4076    she's dating the gangster\n",
              "805                   racket boys\n",
              "2690                       code 8\n",
              "1727               girl's revenge\n",
              "8232              the bye bye man\n",
              "8612            train of the dead\n",
              "2362               the politician\n",
              "Name: title, dtype: object"
            ]
          },
          "metadata": {},
          "execution_count": 203
        }
      ]
    },
    {
      "cell_type": "code",
      "source": [
        "def get_recommendations_genre(title, cosine_sim=cosine_sim_genre):\n",
        "    idx = indicies_genre[title]\n",
        "\n",
        "    # Get the pairwsie similarity scores of all movies with that movie\n",
        "    sim_scores = list(enumerate(cosine_sim_genre[idx]))\n",
        "\n",
        "    # Sort the movies based on the similarity scores\n",
        "    sim_scores = sorted(sim_scores, key=lambda x: x[1], reverse=True)\n",
        "\n",
        "    # Get the scores of the 10 most similar movies\n",
        "    sim_scores = sim_scores[1:11]\n",
        "\n",
        "    # Get the movie indices\n",
        "    movie_indices = [i[0] for i in sim_scores]\n",
        "\n",
        "    # Return the top 10 most similar movies\n",
        "    return netflix_data['title'].iloc[movie_indices]"
      ],
      "metadata": {
        "id": "FPFNmHmTYxsn"
      },
      "execution_count": null,
      "outputs": []
    },
    {
      "cell_type": "code",
      "source": [
        "get_recommendations_genre(\"kota factory\",cosine_sim_genre)"
      ],
      "metadata": {
        "colab": {
          "base_uri": "https://localhost:8080/"
        },
        "id": "B_lFIxknZSeZ",
        "outputId": "629f964a-7639-46de-b3f8-db33f4b9773a"
      },
      "execution_count": null,
      "outputs": [
        {
          "output_type": "execute_result",
          "data": {
            "text/plain": [
              "47                the smart money woman\n",
              "121                      hotel del luna\n",
              "186                hometown cha-cha-cha\n",
              "287                      i need romance\n",
              "316                        office girls\n",
              "319    the prince who turns into a frog\n",
              "321                         two fathers\n",
              "322                   you're my destiny\n",
              "397                     feels like ishq\n",
              "456                    her private life\n",
              "Name: title, dtype: object"
            ]
          },
          "metadata": {},
          "execution_count": 197
        }
      ]
    },
    {
      "cell_type": "code",
      "source": [
        "books=pd.read_csv('/content/drive/MyDrive/Datasets-Streaming/netflix_data/books.csv')\n",
        "books['original_title']=books['original_title'].str.lower()\n",
        "x=netflix_data\n",
        "x['title']=x['title'].str.lower()\n",
        "t=x.merge(books, left_on='title', right_on='original_title', how=\"inner\")"
      ],
      "metadata": {
        "id": "J659_CVFuYob"
      },
      "execution_count": null,
      "outputs": []
    },
    {
      "cell_type": "code",
      "source": [
        "import plotly.graph_objects as go\n",
        "\n",
        "labels = ['Shows from books','Shows not from books']\n",
        "values = [248,6234]\n",
        "\n",
        "fig = go.Figure(data=[go.Pie(labels=labels, values=values)])\n",
        "fig.show()"
      ],
      "metadata": {
        "colab": {
          "base_uri": "https://localhost:8080/",
          "height": 542
        },
        "id": "FsWS7PFYvAK4",
        "outputId": "1b1f0c10-6bb8-4071-de5a-cba05797abd6"
      },
      "execution_count": null,
      "outputs": [
        {
          "output_type": "display_data",
          "data": {
            "text/html": [
              "<html>\n",
              "<head><meta charset=\"utf-8\" /></head>\n",
              "<body>\n",
              "    <div>            <script src=\"https://cdnjs.cloudflare.com/ajax/libs/mathjax/2.7.5/MathJax.js?config=TeX-AMS-MML_SVG\"></script><script type=\"text/javascript\">if (window.MathJax) {MathJax.Hub.Config({SVG: {font: \"STIX-Web\"}});}</script>                <script type=\"text/javascript\">window.PlotlyConfig = {MathJaxConfig: 'local'};</script>\n",
              "        <script src=\"https://cdn.plot.ly/plotly-2.8.3.min.js\"></script>                <div id=\"0dd71672-8072-4b12-ab93-47ffd37773c6\" class=\"plotly-graph-div\" style=\"height:525px; width:100%;\"></div>            <script type=\"text/javascript\">                                    window.PLOTLYENV=window.PLOTLYENV || {};                                    if (document.getElementById(\"0dd71672-8072-4b12-ab93-47ffd37773c6\")) {                    Plotly.newPlot(                        \"0dd71672-8072-4b12-ab93-47ffd37773c6\",                        [{\"labels\":[\"Shows from books\",\"Shows not from books\"],\"values\":[248,6234],\"type\":\"pie\"}],                        {\"template\":{\"data\":{\"bar\":[{\"error_x\":{\"color\":\"#2a3f5f\"},\"error_y\":{\"color\":\"#2a3f5f\"},\"marker\":{\"line\":{\"color\":\"#E5ECF6\",\"width\":0.5},\"pattern\":{\"fillmode\":\"overlay\",\"size\":10,\"solidity\":0.2}},\"type\":\"bar\"}],\"barpolar\":[{\"marker\":{\"line\":{\"color\":\"#E5ECF6\",\"width\":0.5},\"pattern\":{\"fillmode\":\"overlay\",\"size\":10,\"solidity\":0.2}},\"type\":\"barpolar\"}],\"carpet\":[{\"aaxis\":{\"endlinecolor\":\"#2a3f5f\",\"gridcolor\":\"white\",\"linecolor\":\"white\",\"minorgridcolor\":\"white\",\"startlinecolor\":\"#2a3f5f\"},\"baxis\":{\"endlinecolor\":\"#2a3f5f\",\"gridcolor\":\"white\",\"linecolor\":\"white\",\"minorgridcolor\":\"white\",\"startlinecolor\":\"#2a3f5f\"},\"type\":\"carpet\"}],\"choropleth\":[{\"colorbar\":{\"outlinewidth\":0,\"ticks\":\"\"},\"type\":\"choropleth\"}],\"contour\":[{\"colorbar\":{\"outlinewidth\":0,\"ticks\":\"\"},\"colorscale\":[[0.0,\"#0d0887\"],[0.1111111111111111,\"#46039f\"],[0.2222222222222222,\"#7201a8\"],[0.3333333333333333,\"#9c179e\"],[0.4444444444444444,\"#bd3786\"],[0.5555555555555556,\"#d8576b\"],[0.6666666666666666,\"#ed7953\"],[0.7777777777777778,\"#fb9f3a\"],[0.8888888888888888,\"#fdca26\"],[1.0,\"#f0f921\"]],\"type\":\"contour\"}],\"contourcarpet\":[{\"colorbar\":{\"outlinewidth\":0,\"ticks\":\"\"},\"type\":\"contourcarpet\"}],\"heatmap\":[{\"colorbar\":{\"outlinewidth\":0,\"ticks\":\"\"},\"colorscale\":[[0.0,\"#0d0887\"],[0.1111111111111111,\"#46039f\"],[0.2222222222222222,\"#7201a8\"],[0.3333333333333333,\"#9c179e\"],[0.4444444444444444,\"#bd3786\"],[0.5555555555555556,\"#d8576b\"],[0.6666666666666666,\"#ed7953\"],[0.7777777777777778,\"#fb9f3a\"],[0.8888888888888888,\"#fdca26\"],[1.0,\"#f0f921\"]],\"type\":\"heatmap\"}],\"heatmapgl\":[{\"colorbar\":{\"outlinewidth\":0,\"ticks\":\"\"},\"colorscale\":[[0.0,\"#0d0887\"],[0.1111111111111111,\"#46039f\"],[0.2222222222222222,\"#7201a8\"],[0.3333333333333333,\"#9c179e\"],[0.4444444444444444,\"#bd3786\"],[0.5555555555555556,\"#d8576b\"],[0.6666666666666666,\"#ed7953\"],[0.7777777777777778,\"#fb9f3a\"],[0.8888888888888888,\"#fdca26\"],[1.0,\"#f0f921\"]],\"type\":\"heatmapgl\"}],\"histogram\":[{\"marker\":{\"pattern\":{\"fillmode\":\"overlay\",\"size\":10,\"solidity\":0.2}},\"type\":\"histogram\"}],\"histogram2d\":[{\"colorbar\":{\"outlinewidth\":0,\"ticks\":\"\"},\"colorscale\":[[0.0,\"#0d0887\"],[0.1111111111111111,\"#46039f\"],[0.2222222222222222,\"#7201a8\"],[0.3333333333333333,\"#9c179e\"],[0.4444444444444444,\"#bd3786\"],[0.5555555555555556,\"#d8576b\"],[0.6666666666666666,\"#ed7953\"],[0.7777777777777778,\"#fb9f3a\"],[0.8888888888888888,\"#fdca26\"],[1.0,\"#f0f921\"]],\"type\":\"histogram2d\"}],\"histogram2dcontour\":[{\"colorbar\":{\"outlinewidth\":0,\"ticks\":\"\"},\"colorscale\":[[0.0,\"#0d0887\"],[0.1111111111111111,\"#46039f\"],[0.2222222222222222,\"#7201a8\"],[0.3333333333333333,\"#9c179e\"],[0.4444444444444444,\"#bd3786\"],[0.5555555555555556,\"#d8576b\"],[0.6666666666666666,\"#ed7953\"],[0.7777777777777778,\"#fb9f3a\"],[0.8888888888888888,\"#fdca26\"],[1.0,\"#f0f921\"]],\"type\":\"histogram2dcontour\"}],\"mesh3d\":[{\"colorbar\":{\"outlinewidth\":0,\"ticks\":\"\"},\"type\":\"mesh3d\"}],\"parcoords\":[{\"line\":{\"colorbar\":{\"outlinewidth\":0,\"ticks\":\"\"}},\"type\":\"parcoords\"}],\"pie\":[{\"automargin\":true,\"type\":\"pie\"}],\"scatter\":[{\"marker\":{\"colorbar\":{\"outlinewidth\":0,\"ticks\":\"\"}},\"type\":\"scatter\"}],\"scatter3d\":[{\"line\":{\"colorbar\":{\"outlinewidth\":0,\"ticks\":\"\"}},\"marker\":{\"colorbar\":{\"outlinewidth\":0,\"ticks\":\"\"}},\"type\":\"scatter3d\"}],\"scattercarpet\":[{\"marker\":{\"colorbar\":{\"outlinewidth\":0,\"ticks\":\"\"}},\"type\":\"scattercarpet\"}],\"scattergeo\":[{\"marker\":{\"colorbar\":{\"outlinewidth\":0,\"ticks\":\"\"}},\"type\":\"scattergeo\"}],\"scattergl\":[{\"marker\":{\"colorbar\":{\"outlinewidth\":0,\"ticks\":\"\"}},\"type\":\"scattergl\"}],\"scattermapbox\":[{\"marker\":{\"colorbar\":{\"outlinewidth\":0,\"ticks\":\"\"}},\"type\":\"scattermapbox\"}],\"scatterpolar\":[{\"marker\":{\"colorbar\":{\"outlinewidth\":0,\"ticks\":\"\"}},\"type\":\"scatterpolar\"}],\"scatterpolargl\":[{\"marker\":{\"colorbar\":{\"outlinewidth\":0,\"ticks\":\"\"}},\"type\":\"scatterpolargl\"}],\"scatterternary\":[{\"marker\":{\"colorbar\":{\"outlinewidth\":0,\"ticks\":\"\"}},\"type\":\"scatterternary\"}],\"surface\":[{\"colorbar\":{\"outlinewidth\":0,\"ticks\":\"\"},\"colorscale\":[[0.0,\"#0d0887\"],[0.1111111111111111,\"#46039f\"],[0.2222222222222222,\"#7201a8\"],[0.3333333333333333,\"#9c179e\"],[0.4444444444444444,\"#bd3786\"],[0.5555555555555556,\"#d8576b\"],[0.6666666666666666,\"#ed7953\"],[0.7777777777777778,\"#fb9f3a\"],[0.8888888888888888,\"#fdca26\"],[1.0,\"#f0f921\"]],\"type\":\"surface\"}],\"table\":[{\"cells\":{\"fill\":{\"color\":\"#EBF0F8\"},\"line\":{\"color\":\"white\"}},\"header\":{\"fill\":{\"color\":\"#C8D4E3\"},\"line\":{\"color\":\"white\"}},\"type\":\"table\"}]},\"layout\":{\"annotationdefaults\":{\"arrowcolor\":\"#2a3f5f\",\"arrowhead\":0,\"arrowwidth\":1},\"autotypenumbers\":\"strict\",\"coloraxis\":{\"colorbar\":{\"outlinewidth\":0,\"ticks\":\"\"}},\"colorscale\":{\"diverging\":[[0,\"#8e0152\"],[0.1,\"#c51b7d\"],[0.2,\"#de77ae\"],[0.3,\"#f1b6da\"],[0.4,\"#fde0ef\"],[0.5,\"#f7f7f7\"],[0.6,\"#e6f5d0\"],[0.7,\"#b8e186\"],[0.8,\"#7fbc41\"],[0.9,\"#4d9221\"],[1,\"#276419\"]],\"sequential\":[[0.0,\"#0d0887\"],[0.1111111111111111,\"#46039f\"],[0.2222222222222222,\"#7201a8\"],[0.3333333333333333,\"#9c179e\"],[0.4444444444444444,\"#bd3786\"],[0.5555555555555556,\"#d8576b\"],[0.6666666666666666,\"#ed7953\"],[0.7777777777777778,\"#fb9f3a\"],[0.8888888888888888,\"#fdca26\"],[1.0,\"#f0f921\"]],\"sequentialminus\":[[0.0,\"#0d0887\"],[0.1111111111111111,\"#46039f\"],[0.2222222222222222,\"#7201a8\"],[0.3333333333333333,\"#9c179e\"],[0.4444444444444444,\"#bd3786\"],[0.5555555555555556,\"#d8576b\"],[0.6666666666666666,\"#ed7953\"],[0.7777777777777778,\"#fb9f3a\"],[0.8888888888888888,\"#fdca26\"],[1.0,\"#f0f921\"]]},\"colorway\":[\"#636efa\",\"#EF553B\",\"#00cc96\",\"#ab63fa\",\"#FFA15A\",\"#19d3f3\",\"#FF6692\",\"#B6E880\",\"#FF97FF\",\"#FECB52\"],\"font\":{\"color\":\"#2a3f5f\"},\"geo\":{\"bgcolor\":\"white\",\"lakecolor\":\"white\",\"landcolor\":\"#E5ECF6\",\"showlakes\":true,\"showland\":true,\"subunitcolor\":\"white\"},\"hoverlabel\":{\"align\":\"left\"},\"hovermode\":\"closest\",\"mapbox\":{\"style\":\"light\"},\"paper_bgcolor\":\"white\",\"plot_bgcolor\":\"#E5ECF6\",\"polar\":{\"angularaxis\":{\"gridcolor\":\"white\",\"linecolor\":\"white\",\"ticks\":\"\"},\"bgcolor\":\"#E5ECF6\",\"radialaxis\":{\"gridcolor\":\"white\",\"linecolor\":\"white\",\"ticks\":\"\"}},\"scene\":{\"xaxis\":{\"backgroundcolor\":\"#E5ECF6\",\"gridcolor\":\"white\",\"gridwidth\":2,\"linecolor\":\"white\",\"showbackground\":true,\"ticks\":\"\",\"zerolinecolor\":\"white\"},\"yaxis\":{\"backgroundcolor\":\"#E5ECF6\",\"gridcolor\":\"white\",\"gridwidth\":2,\"linecolor\":\"white\",\"showbackground\":true,\"ticks\":\"\",\"zerolinecolor\":\"white\"},\"zaxis\":{\"backgroundcolor\":\"#E5ECF6\",\"gridcolor\":\"white\",\"gridwidth\":2,\"linecolor\":\"white\",\"showbackground\":true,\"ticks\":\"\",\"zerolinecolor\":\"white\"}},\"shapedefaults\":{\"line\":{\"color\":\"#2a3f5f\"}},\"ternary\":{\"aaxis\":{\"gridcolor\":\"white\",\"linecolor\":\"white\",\"ticks\":\"\"},\"baxis\":{\"gridcolor\":\"white\",\"linecolor\":\"white\",\"ticks\":\"\"},\"bgcolor\":\"#E5ECF6\",\"caxis\":{\"gridcolor\":\"white\",\"linecolor\":\"white\",\"ticks\":\"\"}},\"title\":{\"x\":0.05},\"xaxis\":{\"automargin\":true,\"gridcolor\":\"white\",\"linecolor\":\"white\",\"ticks\":\"\",\"title\":{\"standoff\":15},\"zerolinecolor\":\"white\",\"zerolinewidth\":2},\"yaxis\":{\"automargin\":true,\"gridcolor\":\"white\",\"linecolor\":\"white\",\"ticks\":\"\",\"title\":{\"standoff\":15},\"zerolinecolor\":\"white\",\"zerolinewidth\":2}}}},                        {\"responsive\": true}                    ).then(function(){\n",
              "                            \n",
              "var gd = document.getElementById('0dd71672-8072-4b12-ab93-47ffd37773c6');\n",
              "var x = new MutationObserver(function (mutations, observer) {{\n",
              "        var display = window.getComputedStyle(gd).display;\n",
              "        if (!display || display === 'none') {{\n",
              "            console.log([gd, 'removed!']);\n",
              "            Plotly.purge(gd);\n",
              "            observer.disconnect();\n",
              "        }}\n",
              "}});\n",
              "\n",
              "// Listen for the removal of the full notebook cells\n",
              "var notebookContainer = gd.closest('#notebook-container');\n",
              "if (notebookContainer) {{\n",
              "    x.observe(notebookContainer, {childList: true});\n",
              "}}\n",
              "\n",
              "// Listen for the clearing of the current output cell\n",
              "var outputEl = gd.closest('.output');\n",
              "if (outputEl) {{\n",
              "    x.observe(outputEl, {childList: true});\n",
              "}}\n",
              "\n",
              "                        })                };                            </script>        </div>\n",
              "</body>\n",
              "</html>"
            ]
          },
          "metadata": {}
        }
      ]
    },
    {
      "cell_type": "code",
      "source": [
        ""
      ],
      "metadata": {
        "id": "qGu-9-8tvnWl"
      },
      "execution_count": null,
      "outputs": []
    }
  ]
}